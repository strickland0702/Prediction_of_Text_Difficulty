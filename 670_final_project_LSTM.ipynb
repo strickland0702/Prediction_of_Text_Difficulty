{
 "cells": [
  {
   "cell_type": "code",
   "execution_count": 1,
   "id": "ac689de2",
   "metadata": {},
   "outputs": [],
   "source": [
    "from keras.preprocessing.text import Tokenizer\n",
    "from keras.preprocessing.sequence import pad_sequences\n",
    "from keras.utils import to_categorical\n",
    "from keras.layers import Dense, Input, Flatten, Dropout\n",
    "from keras.layers import LSTM, Embedding,GRU\n",
    "from keras.models import Sequential"
   ]
  },
  {
   "cell_type": "code",
   "execution_count": 2,
   "id": "5327f841",
   "metadata": {},
   "outputs": [
    {
     "data": {
      "text/plain": [
       "0    0.5\n",
       "1    0.5\n",
       "Name: label, dtype: float64"
      ]
     },
     "execution_count": 2,
     "metadata": {},
     "output_type": "execute_result"
    }
   ],
   "source": [
    "import pandas as pd\n",
    "import numpy as np\n",
    "all_data=pd.read_csv('WikiLarge_Train.csv')\n",
    "from sklearn.model_selection import StratifiedShuffleSplit\n",
    "sss= StratifiedShuffleSplit(n_splits=1, test_size=0.2, random_state=42)\n",
    "for train_index, dev_index in sss.split(all_data, all_data['label']):\n",
    "    strat_train_set=all_data.iloc[train_index]\n",
    "    strat_dev_set=all_data.iloc[dev_index]\n",
    "strat_dev_set['label'].value_counts()/len(strat_dev_set)"
   ]
  },
  {
   "cell_type": "code",
   "execution_count": 3,
   "id": "a79be426",
   "metadata": {},
   "outputs": [
    {
     "data": {
      "text/html": [
       "<div>\n",
       "<style scoped>\n",
       "    .dataframe tbody tr th:only-of-type {\n",
       "        vertical-align: middle;\n",
       "    }\n",
       "\n",
       "    .dataframe tbody tr th {\n",
       "        vertical-align: top;\n",
       "    }\n",
       "\n",
       "    .dataframe thead th {\n",
       "        text-align: right;\n",
       "    }\n",
       "</style>\n",
       "<table border=\"1\" class=\"dataframe\">\n",
       "  <thead>\n",
       "    <tr style=\"text-align: right;\">\n",
       "      <th></th>\n",
       "      <th>original_text</th>\n",
       "      <th>label</th>\n",
       "    </tr>\n",
       "  </thead>\n",
       "  <tbody>\n",
       "    <tr>\n",
       "      <th>0</th>\n",
       "      <td>There is manuscript evidence that Austen conti...</td>\n",
       "      <td>1</td>\n",
       "    </tr>\n",
       "    <tr>\n",
       "      <th>1</th>\n",
       "      <td>In a remarkable comparative analysis , Mandaea...</td>\n",
       "      <td>1</td>\n",
       "    </tr>\n",
       "    <tr>\n",
       "      <th>2</th>\n",
       "      <td>Before Persephone was released to Hermes , who...</td>\n",
       "      <td>1</td>\n",
       "    </tr>\n",
       "    <tr>\n",
       "      <th>3</th>\n",
       "      <td>Cogeneration plants are commonly found in dist...</td>\n",
       "      <td>1</td>\n",
       "    </tr>\n",
       "    <tr>\n",
       "      <th>4</th>\n",
       "      <td>Geneva -LRB- , ; , ; , ; ; -RRB- is the second...</td>\n",
       "      <td>1</td>\n",
       "    </tr>\n",
       "  </tbody>\n",
       "</table>\n",
       "</div>"
      ],
      "text/plain": [
       "                                       original_text  label\n",
       "0  There is manuscript evidence that Austen conti...      1\n",
       "1  In a remarkable comparative analysis , Mandaea...      1\n",
       "2  Before Persephone was released to Hermes , who...      1\n",
       "3  Cogeneration plants are commonly found in dist...      1\n",
       "4  Geneva -LRB- , ; , ; , ; ; -RRB- is the second...      1"
      ]
     },
     "execution_count": 3,
     "metadata": {},
     "output_type": "execute_result"
    }
   ],
   "source": [
    "all_data.head()"
   ]
  },
  {
   "cell_type": "code",
   "execution_count": 4,
   "id": "739ba5df",
   "metadata": {},
   "outputs": [
    {
     "name": "stdout",
     "output_type": "stream",
     "text": [
      "Shape of data tensor: (416768, 50)\n",
      "Shape of label tensor: (416768, 2)\n"
     ]
    }
   ],
   "source": [
    "all_texts=all_data['original_text'].tolist()\n",
    "all_labels=all_data['label'].tolist()\n",
    "MAX_SEQUENCE_LENGTH = 50    #the max seqeunce length\n",
    "EMBEDDING_DIM = 200    #the size of embedding\n",
    "tokenizer = Tokenizer()\n",
    "tokenizer.fit_on_texts(all_texts)\n",
    "sequences = tokenizer.texts_to_sequences(all_texts)\n",
    "word_index = tokenizer.word_index\n",
    "data = pad_sequences(sequences, maxlen=MAX_SEQUENCE_LENGTH)\n",
    "labels = to_categorical(np.asarray(all_labels))\n",
    "print('Shape of data tensor:', data.shape)\n",
    "print('Shape of label tensor:', labels.shape)\n"
   ]
  },
  {
   "cell_type": "code",
   "execution_count": 5,
   "id": "033060ec",
   "metadata": {},
   "outputs": [],
   "source": [
    "testing=pd.read_csv('WikiLarge_Test.csv')\n",
    "all_test=list(testing['original_text'])\n"
   ]
  },
  {
   "cell_type": "code",
   "execution_count": 32,
   "id": "eeb5e7f5",
   "metadata": {},
   "outputs": [
    {
     "data": {
      "text/plain": [
       "119092"
      ]
     },
     "execution_count": 32,
     "metadata": {},
     "output_type": "execute_result"
    }
   ],
   "source": [
    "len(all_test)"
   ]
  },
  {
   "cell_type": "code",
   "execution_count": 33,
   "id": "d7aff9e9",
   "metadata": {},
   "outputs": [],
   "source": [
    "sequences_test = tokenizer.texts_to_sequences(all_test)\n",
    "X_test = pad_sequences(sequences_test, maxlen=MAX_SEQUENCE_LENGTH)"
   ]
  },
  {
   "cell_type": "code",
   "execution_count": 10,
   "id": "6a85ed6c",
   "metadata": {},
   "outputs": [],
   "source": [
    "X_train=data[train_index]\n",
    "y_train=labels[train_index]\n",
    "X_dev=data[dev_index]\n",
    "y_dev=labels[dev_index]"
   ]
  },
  {
   "cell_type": "code",
   "execution_count": 23,
   "id": "30859fe2",
   "metadata": {},
   "outputs": [
    {
     "name": "stdout",
     "output_type": "stream",
     "text": [
      "Model: \"sequential_5\"\n",
      "_________________________________________________________________\n",
      "Layer (type)                 Output Shape              Param #   \n",
      "=================================================================\n",
      "embedding_5 (Embedding)      (None, 50, 200)           28541000  \n",
      "_________________________________________________________________\n",
      "lstm_5 (LSTM)                (None, 200)               320800    \n",
      "_________________________________________________________________\n",
      "dropout_5 (Dropout)          (None, 200)               0         \n",
      "_________________________________________________________________\n",
      "dense_10 (Dense)             (None, 64)                12864     \n",
      "_________________________________________________________________\n",
      "dense_11 (Dense)             (None, 2)                 130       \n",
      "=================================================================\n",
      "Total params: 28,874,794\n",
      "Trainable params: 28,874,794\n",
      "Non-trainable params: 0\n",
      "_________________________________________________________________\n"
     ]
    }
   ],
   "source": [
    "model = Sequential()\n",
    "model.add(Embedding(len(word_index) + 1, EMBEDDING_DIM, input_length=MAX_SEQUENCE_LENGTH))\n",
    "model.add(LSTM(200, dropout=0.2, recurrent_dropout=0.2))\n",
    "model.add(Dropout(0.2))\n",
    "model.add(Dense(64, activation='relu'))\n",
    "model.add(Dense(2, activation='sigmoid'))\n",
    "model.summary()"
   ]
  },
  {
   "cell_type": "code",
   "execution_count": 24,
   "id": "30145bf9",
   "metadata": {},
   "outputs": [
    {
     "name": "stdout",
     "output_type": "stream",
     "text": [
      "[]\n",
      "Epoch 1/2\n",
      "2605/2605 [==============================] - 4035s 2s/step - loss: 0.5988 - acc: 0.6696 - val_loss: 0.5508 - val_acc: 0.7096\n",
      "Epoch 2/2\n",
      "2605/2605 [==============================] - 1992s 765ms/step - loss: 0.5307 - acc: 0.7268 - val_loss: 0.5453 - val_acc: 0.7142\n"
     ]
    }
   ],
   "source": [
    "model.compile(loss='binary_crossentropy',\n",
    "                  optimizer='rmsprop',\n",
    "                  metrics=['acc'])\n",
    "print(model.metrics_names)\n",
    "model.fit(X_train, y_train, validation_data=(X_dev, y_dev), epochs=2, batch_size=128)\n",
    "model.save('lstm.h5')"
   ]
  },
  {
   "cell_type": "code",
   "execution_count": 35,
   "id": "29d6cac8",
   "metadata": {},
   "outputs": [],
   "source": [
    "predict_results=model.predict(X_test)"
   ]
  },
  {
   "cell_type": "code",
   "execution_count": 36,
   "id": "c1542d71",
   "metadata": {},
   "outputs": [
    {
     "data": {
      "text/plain": [
       "119092"
      ]
     },
     "execution_count": 36,
     "metadata": {},
     "output_type": "execute_result"
    }
   ],
   "source": [
    "len(X_test)"
   ]
  },
  {
   "cell_type": "code",
   "execution_count": 37,
   "id": "5dafe2ae",
   "metadata": {},
   "outputs": [
    {
     "data": {
      "text/plain": [
       "119092"
      ]
     },
     "execution_count": 37,
     "metadata": {},
     "output_type": "execute_result"
    }
   ],
   "source": [
    "len(predict_results)"
   ]
  },
  {
   "cell_type": "code",
   "execution_count": 38,
   "id": "e0e85f92",
   "metadata": {},
   "outputs": [],
   "source": [
    "result_1=[]\n",
    "result_2=[]\n",
    "for i in range(len(predict_results)):\n",
    "    if predict_results[i][0]>predict_results[i][1]:\n",
    "        result_1.append(int(0))\n",
    "        \n",
    "        \n",
    "    else:\n",
    "        result_1.append(int(1))\n",
    "        "
   ]
  },
  {
   "cell_type": "code",
   "execution_count": 39,
   "id": "7b7da4bb",
   "metadata": {},
   "outputs": [
    {
     "data": {
      "text/plain": [
       "119092"
      ]
     },
     "execution_count": 39,
     "metadata": {},
     "output_type": "execute_result"
    }
   ],
   "source": [
    "len(result_1)"
   ]
  },
  {
   "cell_type": "code",
   "execution_count": 40,
   "id": "3aa8fb50",
   "metadata": {},
   "outputs": [],
   "source": [
    "result_1=pd.DataFrame({'id':list(testing['id']), 'label':result_1})\n",
    "result_1.to_csv('results_LSTM1.csv',index=None)"
   ]
  },
  {
   "cell_type": "code",
   "execution_count": null,
   "id": "a12da0c9",
   "metadata": {},
   "outputs": [],
   "source": []
  }
 ],
 "metadata": {
  "kernelspec": {
   "display_name": "Python 3",
   "language": "python",
   "name": "python3"
  },
  "language_info": {
   "codemirror_mode": {
    "name": "ipython",
    "version": 3
   },
   "file_extension": ".py",
   "mimetype": "text/x-python",
   "name": "python",
   "nbconvert_exporter": "python",
   "pygments_lexer": "ipython3",
   "version": "3.8.8"
  }
 },
 "nbformat": 4,
 "nbformat_minor": 5
}
