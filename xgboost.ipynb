{
 "cells": [
  {
   "cell_type": "code",
   "execution_count": 1,
   "id": "english-webster",
   "metadata": {},
   "outputs": [],
   "source": [
    "import xgboost as xgb"
   ]
  },
  {
   "cell_type": "code",
   "execution_count": 128,
   "id": "original-couple",
   "metadata": {},
   "outputs": [],
   "source": [
    "import pandas as pd\n",
    "from sklearn.model_selection import train_test_split"
   ]
  },
  {
   "cell_type": "code",
   "execution_count": 123,
   "id": "complete-devices",
   "metadata": {},
   "outputs": [],
   "source": [
    "train = pd.read_csv('train_data_with_feature.csv')"
   ]
  },
  {
   "cell_type": "code",
   "execution_count": 124,
   "id": "automotive-dealer",
   "metadata": {},
   "outputs": [],
   "source": [
    "train = train.fillna(0)"
   ]
  },
  {
   "cell_type": "code",
   "execution_count": 125,
   "id": "confident-bread",
   "metadata": {},
   "outputs": [],
   "source": [
    "y = train['label']"
   ]
  },
  {
   "cell_type": "code",
   "execution_count": 126,
   "id": "adult-found",
   "metadata": {},
   "outputs": [],
   "source": [
    "X = train[['average_AoA_Kup_lem',\n",
    "       'percentage_of_basic_words', 'average_concreteness',\n",
    "       'average_percentage_known']]"
   ]
  },
  {
   "cell_type": "code",
   "execution_count": 129,
   "id": "recent-radius",
   "metadata": {},
   "outputs": [],
   "source": [
    "X_train, X_test, y_train, y_test = train_test_split(X, y, test_size=0.2, random_state=42)"
   ]
  },
  {
   "cell_type": "code",
   "execution_count": 35,
   "id": "productive-polymer",
   "metadata": {},
   "outputs": [],
   "source": [
    "dtrain = xgb.DMatrix(X_train, label = y_train)"
   ]
  },
  {
   "cell_type": "code",
   "execution_count": 130,
   "id": "solved-toner",
   "metadata": {},
   "outputs": [],
   "source": [
    "dvalid = xgb.DMatrix(X_test, label = y_test)"
   ]
  },
  {
   "cell_type": "code",
   "execution_count": null,
   "id": "following-davis",
   "metadata": {},
   "outputs": [],
   "source": []
  },
  {
   "cell_type": "code",
   "execution_count": 208,
   "id": "arranged-parts",
   "metadata": {},
   "outputs": [],
   "source": [
    "param_dist = {'objective':'binary:logistic', 'n_estimators':100, 'max_depth':15, 'eta': 0.8}\n",
    "clf = xgb.XGBModel(**param_dist)"
   ]
  },
  {
   "cell_type": "code",
   "execution_count": 209,
   "id": "secret-strap",
   "metadata": {},
   "outputs": [
    {
     "name": "stdout",
     "output_type": "stream",
     "text": [
      "[0]\tvalidation_0-error:0.33108\tvalidation_1-error:0.36527\n",
      "[1]\tvalidation_0-error:0.31407\tvalidation_1-error:0.36207\n",
      "[2]\tvalidation_0-error:0.30115\tvalidation_1-error:0.35938\n",
      "[3]\tvalidation_0-error:0.29408\tvalidation_1-error:0.35707\n",
      "[4]\tvalidation_0-error:0.28322\tvalidation_1-error:0.35718\n",
      "[5]\tvalidation_0-error:0.27556\tvalidation_1-error:0.35607\n",
      "[6]\tvalidation_0-error:0.26882\tvalidation_1-error:0.35560\n",
      "[7]\tvalidation_0-error:0.26248\tvalidation_1-error:0.35558\n",
      "[8]\tvalidation_0-error:0.25883\tvalidation_1-error:0.35553\n",
      "[9]\tvalidation_0-error:0.25589\tvalidation_1-error:0.35518\n",
      "[10]\tvalidation_0-error:0.24848\tvalidation_1-error:0.35544\n",
      "[11]\tvalidation_0-error:0.24499\tvalidation_1-error:0.35514\n",
      "[12]\tvalidation_0-error:0.23686\tvalidation_1-error:0.35391\n",
      "[13]\tvalidation_0-error:0.23339\tvalidation_1-error:0.35379\n",
      "[14]\tvalidation_0-error:0.22883\tvalidation_1-error:0.35328\n",
      "[15]\tvalidation_0-error:0.22351\tvalidation_1-error:0.35317\n",
      "[16]\tvalidation_0-error:0.21965\tvalidation_1-error:0.35256\n",
      "[17]\tvalidation_0-error:0.21577\tvalidation_1-error:0.35185\n",
      "[18]\tvalidation_0-error:0.21047\tvalidation_1-error:0.35103\n",
      "[19]\tvalidation_0-error:0.20838\tvalidation_1-error:0.35118\n",
      "[20]\tvalidation_0-error:0.20488\tvalidation_1-error:0.35118\n",
      "[21]\tvalidation_0-error:0.20124\tvalidation_1-error:0.35118\n",
      "[22]\tvalidation_0-error:0.19809\tvalidation_1-error:0.35107\n",
      "[23]\tvalidation_0-error:0.19253\tvalidation_1-error:0.34992\n",
      "[24]\tvalidation_0-error:0.18800\tvalidation_1-error:0.34926\n",
      "[25]\tvalidation_0-error:0.18581\tvalidation_1-error:0.34887\n",
      "[26]\tvalidation_0-error:0.18377\tvalidation_1-error:0.34855\n",
      "[27]\tvalidation_0-error:0.18041\tvalidation_1-error:0.34815\n",
      "[28]\tvalidation_0-error:0.17809\tvalidation_1-error:0.34845\n",
      "[29]\tvalidation_0-error:0.17628\tvalidation_1-error:0.34860\n",
      "[30]\tvalidation_0-error:0.17609\tvalidation_1-error:0.34874\n",
      "[31]\tvalidation_0-error:0.17394\tvalidation_1-error:0.34893\n",
      "[32]\tvalidation_0-error:0.17191\tvalidation_1-error:0.34897\n",
      "[33]\tvalidation_0-error:0.17048\tvalidation_1-error:0.34890\n",
      "[34]\tvalidation_0-error:0.17019\tvalidation_1-error:0.34907\n",
      "[35]\tvalidation_0-error:0.16794\tvalidation_1-error:0.34892\n",
      "[36]\tvalidation_0-error:0.16531\tvalidation_1-error:0.34891\n",
      "[37]\tvalidation_0-error:0.16278\tvalidation_1-error:0.34860\n",
      "[38]\tvalidation_0-error:0.16016\tvalidation_1-error:0.34818\n",
      "[39]\tvalidation_0-error:0.15875\tvalidation_1-error:0.34838\n",
      "[40]\tvalidation_0-error:0.15778\tvalidation_1-error:0.34806\n",
      "[41]\tvalidation_0-error:0.15543\tvalidation_1-error:0.34769\n",
      "[42]\tvalidation_0-error:0.15307\tvalidation_1-error:0.34747\n",
      "[43]\tvalidation_0-error:0.15127\tvalidation_1-error:0.34680\n",
      "[44]\tvalidation_0-error:0.15039\tvalidation_1-error:0.34682\n",
      "[45]\tvalidation_0-error:0.15009\tvalidation_1-error:0.34680\n",
      "[46]\tvalidation_0-error:0.14944\tvalidation_1-error:0.34671\n",
      "[47]\tvalidation_0-error:0.14711\tvalidation_1-error:0.34665\n",
      "[48]\tvalidation_0-error:0.14529\tvalidation_1-error:0.34657\n",
      "[49]\tvalidation_0-error:0.14385\tvalidation_1-error:0.34604\n",
      "[50]\tvalidation_0-error:0.14160\tvalidation_1-error:0.34620\n",
      "[51]\tvalidation_0-error:0.14022\tvalidation_1-error:0.34549\n",
      "[52]\tvalidation_0-error:0.13847\tvalidation_1-error:0.34532\n",
      "[53]\tvalidation_0-error:0.13752\tvalidation_1-error:0.34550\n",
      "[54]\tvalidation_0-error:0.13470\tvalidation_1-error:0.34445\n",
      "[55]\tvalidation_0-error:0.13368\tvalidation_1-error:0.34452\n",
      "[56]\tvalidation_0-error:0.13290\tvalidation_1-error:0.34418\n",
      "[57]\tvalidation_0-error:0.13242\tvalidation_1-error:0.34411\n",
      "[58]\tvalidation_0-error:0.13085\tvalidation_1-error:0.34429\n",
      "[59]\tvalidation_0-error:0.12936\tvalidation_1-error:0.34400\n",
      "[60]\tvalidation_0-error:0.12905\tvalidation_1-error:0.34399\n",
      "[61]\tvalidation_0-error:0.12849\tvalidation_1-error:0.34408\n",
      "[62]\tvalidation_0-error:0.12628\tvalidation_1-error:0.34376\n",
      "[63]\tvalidation_0-error:0.12452\tvalidation_1-error:0.34393\n",
      "[64]\tvalidation_0-error:0.12405\tvalidation_1-error:0.34396\n",
      "[65]\tvalidation_0-error:0.12222\tvalidation_1-error:0.34338\n",
      "[66]\tvalidation_0-error:0.12003\tvalidation_1-error:0.34320\n",
      "[67]\tvalidation_0-error:0.11988\tvalidation_1-error:0.34324\n",
      "[68]\tvalidation_0-error:0.11838\tvalidation_1-error:0.34310\n",
      "[69]\tvalidation_0-error:0.11799\tvalidation_1-error:0.34308\n",
      "[70]\tvalidation_0-error:0.11658\tvalidation_1-error:0.34274\n",
      "[71]\tvalidation_0-error:0.11596\tvalidation_1-error:0.34271\n",
      "[72]\tvalidation_0-error:0.11490\tvalidation_1-error:0.34254\n",
      "[73]\tvalidation_0-error:0.11449\tvalidation_1-error:0.34252\n",
      "[74]\tvalidation_0-error:0.11226\tvalidation_1-error:0.34202\n",
      "[75]\tvalidation_0-error:0.11130\tvalidation_1-error:0.34186\n",
      "[76]\tvalidation_0-error:0.11063\tvalidation_1-error:0.34155\n",
      "[77]\tvalidation_0-error:0.11029\tvalidation_1-error:0.34141\n",
      "[78]\tvalidation_0-error:0.10938\tvalidation_1-error:0.34108\n",
      "[79]\tvalidation_0-error:0.10756\tvalidation_1-error:0.34088\n",
      "[80]\tvalidation_0-error:0.10577\tvalidation_1-error:0.34057\n",
      "[81]\tvalidation_0-error:0.10539\tvalidation_1-error:0.34054\n",
      "[82]\tvalidation_0-error:0.10506\tvalidation_1-error:0.34026\n",
      "[83]\tvalidation_0-error:0.10494\tvalidation_1-error:0.34013\n",
      "[84]\tvalidation_0-error:0.10378\tvalidation_1-error:0.34037\n",
      "[85]\tvalidation_0-error:0.10335\tvalidation_1-error:0.34039\n",
      "[86]\tvalidation_0-error:0.10136\tvalidation_1-error:0.34031\n",
      "[87]\tvalidation_0-error:0.10072\tvalidation_1-error:0.34009\n",
      "[88]\tvalidation_0-error:0.09915\tvalidation_1-error:0.34021\n",
      "[89]\tvalidation_0-error:0.09802\tvalidation_1-error:0.34009\n",
      "[90]\tvalidation_0-error:0.09678\tvalidation_1-error:0.33985\n",
      "[91]\tvalidation_0-error:0.09558\tvalidation_1-error:0.33970\n",
      "[92]\tvalidation_0-error:0.09507\tvalidation_1-error:0.33926\n",
      "[93]\tvalidation_0-error:0.09383\tvalidation_1-error:0.33911\n",
      "[94]\tvalidation_0-error:0.09324\tvalidation_1-error:0.33916\n",
      "[95]\tvalidation_0-error:0.09242\tvalidation_1-error:0.33932\n",
      "[96]\tvalidation_0-error:0.09176\tvalidation_1-error:0.33948\n",
      "[97]\tvalidation_0-error:0.09097\tvalidation_1-error:0.33911\n",
      "[98]\tvalidation_0-error:0.08978\tvalidation_1-error:0.33935\n",
      "[99]\tvalidation_0-error:0.08802\tvalidation_1-error:0.33911\n"
     ]
    },
    {
     "data": {
      "text/plain": [
       "XGBModel(base_score=0.5, booster='gbtree', colsample_bylevel=1,\n",
       "         colsample_bynode=1, colsample_bytree=1, eta=0.8, gamma=0, gpu_id=-1,\n",
       "         interaction_constraints='', learning_rate=0.800000012,\n",
       "         max_delta_step=0, max_depth=15, min_child_weight=1,\n",
       "         monotone_constraints='()', n_jobs=8, num_parallel_tree=1,\n",
       "         objective='binary:logistic', predictor='auto', random_state=0,\n",
       "         reg_alpha=0, reg_lambda=1, scale_pos_weight=1, subsample=1,\n",
       "         tree_method='exact', validate_parameters=1)"
      ]
     },
     "execution_count": 209,
     "metadata": {},
     "output_type": "execute_result"
    }
   ],
   "source": [
    "clf.fit(X_train, y_train,\n",
    "        eval_set=[(X_train, y_train), (X_test, y_test)],\n",
    "        eval_metric='error',\n",
    "        verbose=True)"
   ]
  },
  {
   "cell_type": "code",
   "execution_count": null,
   "id": "brazilian-interstate",
   "metadata": {},
   "outputs": [],
   "source": []
  },
  {
   "cell_type": "code",
   "execution_count": null,
   "id": "australian-williams",
   "metadata": {},
   "outputs": [],
   "source": []
  },
  {
   "cell_type": "code",
   "execution_count": null,
   "id": "talented-metropolitan",
   "metadata": {},
   "outputs": [],
   "source": []
  },
  {
   "cell_type": "code",
   "execution_count": 133,
   "id": "refined-auckland",
   "metadata": {},
   "outputs": [],
   "source": [
    "test = pd.read_csv('test_data_with_feature.csv')"
   ]
  },
  {
   "cell_type": "code",
   "execution_count": 134,
   "id": "danish-equipment",
   "metadata": {},
   "outputs": [],
   "source": [
    "test = test.fillna(0)"
   ]
  },
  {
   "cell_type": "code",
   "execution_count": 135,
   "id": "governmental-bishop",
   "metadata": {},
   "outputs": [],
   "source": [
    "X = test[['average_AoA_Kup_lem',\n",
    "       'percentage_of_basic_words', 'average_concreteness',\n",
    "       'average_percentage_known']]"
   ]
  },
  {
   "cell_type": "code",
   "execution_count": 136,
   "id": "potential-reporter",
   "metadata": {},
   "outputs": [],
   "source": [
    "dtest = xgb.DMatrix(X)"
   ]
  },
  {
   "cell_type": "code",
   "execution_count": 137,
   "id": "perfect-establishment",
   "metadata": {},
   "outputs": [],
   "source": [
    "ypred = bst.predict(dtest)"
   ]
  },
  {
   "cell_type": "code",
   "execution_count": 140,
   "id": "union-terminal",
   "metadata": {},
   "outputs": [],
   "source": [
    "result = ypred > 0.5"
   ]
  },
  {
   "cell_type": "code",
   "execution_count": 141,
   "id": "instructional-master",
   "metadata": {},
   "outputs": [],
   "source": [
    "result = pd.DataFrame(result)"
   ]
  },
  {
   "cell_type": "code",
   "execution_count": 142,
   "id": "wired-uruguay",
   "metadata": {},
   "outputs": [],
   "source": [
    "result[0] = result[0].astype(int)"
   ]
  },
  {
   "cell_type": "code",
   "execution_count": 120,
   "id": "nutritional-breath",
   "metadata": {},
   "outputs": [],
   "source": [
    "result.columns = ['label']"
   ]
  },
  {
   "cell_type": "code",
   "execution_count": 121,
   "id": "attractive-natural",
   "metadata": {},
   "outputs": [],
   "source": [
    "result.index.name = 'id'"
   ]
  },
  {
   "cell_type": "code",
   "execution_count": 122,
   "id": "green-attribute",
   "metadata": {},
   "outputs": [],
   "source": [
    "result.to_csv('testing.csv')"
   ]
  },
  {
   "cell_type": "code",
   "execution_count": null,
   "id": "plain-commons",
   "metadata": {},
   "outputs": [],
   "source": []
  }
 ],
 "metadata": {
  "kernelspec": {
   "display_name": "Python 3",
   "language": "python",
   "name": "python3"
  },
  "language_info": {
   "codemirror_mode": {
    "name": "ipython",
    "version": 3
   },
   "file_extension": ".py",
   "mimetype": "text/x-python",
   "name": "python",
   "nbconvert_exporter": "python",
   "pygments_lexer": "ipython3",
   "version": "3.7.4"
  }
 },
 "nbformat": 4,
 "nbformat_minor": 5
}
