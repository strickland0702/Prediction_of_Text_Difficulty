{
 "cells": [
  {
   "cell_type": "code",
   "execution_count": 49,
   "id": "english-webster",
   "metadata": {},
   "outputs": [],
   "source": [
    "import xgboost as xgb"
   ]
  },
  {
   "cell_type": "code",
   "execution_count": 50,
   "id": "original-couple",
   "metadata": {},
   "outputs": [],
   "source": [
    "import pandas as pd\n",
    "from sklearn.model_selection import train_test_split"
   ]
  },
  {
   "cell_type": "code",
   "execution_count": 51,
   "id": "complete-devices",
   "metadata": {},
   "outputs": [],
   "source": [
    "train = pd.read_csv('train_data_with_feature.csv')"
   ]
  },
  {
   "cell_type": "code",
   "execution_count": 52,
   "id": "automotive-dealer",
   "metadata": {},
   "outputs": [],
   "source": [
    "train = train.fillna(0)"
   ]
  },
  {
   "cell_type": "code",
   "execution_count": 53,
   "id": "confident-bread",
   "metadata": {},
   "outputs": [],
   "source": [
    "y = train['label']"
   ]
  },
  {
   "cell_type": "code",
   "execution_count": 54,
   "id": "adult-found",
   "metadata": {},
   "outputs": [],
   "source": [
    "X = train[['average_AoA_Kup_lem',\n",
    "       'percentage_of_basic_words', 'average_concreteness',\n",
    "       'average_percentage_known']]"
   ]
  },
  {
   "cell_type": "code",
   "execution_count": 128,
   "id": "further-graham",
   "metadata": {},
   "outputs": [],
   "source": [
    "extra = pd.read_csv('train_data_bert_label.csv')"
   ]
  },
  {
   "cell_type": "code",
   "execution_count": 144,
   "id": "patent-packing",
   "metadata": {},
   "outputs": [],
   "source": [
    "train['bert'] = extra['predicted_label'] * 100000"
   ]
  },
  {
   "cell_type": "code",
   "execution_count": 55,
   "id": "recent-radius",
   "metadata": {},
   "outputs": [],
   "source": [
    "X_train, X_test, y_train, y_test = train_test_split(X, y, test_size=0.2, random_state=42)"
   ]
  },
  {
   "cell_type": "code",
   "execution_count": 56,
   "id": "characteristic-broadcast",
   "metadata": {},
   "outputs": [],
   "source": [
    "from sklearn.preprocessing import StandardScaler\n",
    "scaler = StandardScaler()\n",
    "X_train = scaler.fit_transform(X_train)\n",
    "X_test = scaler.transform(X_test)"
   ]
  },
  {
   "cell_type": "code",
   "execution_count": 57,
   "id": "productive-polymer",
   "metadata": {},
   "outputs": [],
   "source": [
    "dtrain = xgb.DMatrix(X_train, label = y_train)"
   ]
  },
  {
   "cell_type": "code",
   "execution_count": 58,
   "id": "solved-toner",
   "metadata": {},
   "outputs": [],
   "source": [
    "dvalid = xgb.DMatrix(X_test, label = y_test)"
   ]
  },
  {
   "cell_type": "markdown",
   "id": "sharing-weight",
   "metadata": {},
   "source": [
    "### cross validation"
   ]
  },
  {
   "cell_type": "code",
   "execution_count": 61,
   "id": "aboriginal-server",
   "metadata": {},
   "outputs": [],
   "source": [
    "gridsearch_params = [\n",
    "    (max_depth, min_child_weight, eta)\n",
    "    for max_depth in [5, 15, 20, 25, 30]\n",
    "    for min_child_weight in range(5,8)\n",
    "    for eta in [0.5, 0.6, 0.7, 0.8, 0.9]\n",
    "]"
   ]
  },
  {
   "cell_type": "code",
   "execution_count": 63,
   "id": "facial-geometry",
   "metadata": {},
   "outputs": [
    {
     "name": "stdout",
     "output_type": "stream",
     "text": [
      "CV with max_depth=5, min_child_weight=5, eta = 0.5\n",
      "\terror 0.37595 for 4 rounds\n",
      "Best params: 5, 5, 0.5,error: 0.37595\n",
      "CV with max_depth=5, min_child_weight=5, eta = 0.6\n",
      "\terror 0.3746876 for 4 rounds\n",
      "Best params: 5, 5, 0.6,error: 0.3746876\n",
      "CV with max_depth=5, min_child_weight=5, eta = 0.7\n",
      "\terror 0.37460039999999994 for 4 rounds\n",
      "Best params: 5, 5, 0.7,error: 0.37460039999999994\n",
      "CV with max_depth=5, min_child_weight=5, eta = 0.8\n",
      "\terror 0.375821 for 4 rounds\n",
      "Best params: 5, 5, 0.7,error: 0.37460039999999994\n",
      "CV with max_depth=5, min_child_weight=5, eta = 0.9\n",
      "\terror 0.37500199999999995 for 4 rounds\n",
      "Best params: 5, 5, 0.7,error: 0.37460039999999994\n",
      "CV with max_depth=5, min_child_weight=6, eta = 0.5\n",
      "\terror 0.37595 for 4 rounds\n",
      "Best params: 5, 5, 0.7,error: 0.37460039999999994\n",
      "CV with max_depth=5, min_child_weight=6, eta = 0.6\n",
      "\terror 0.37463959999999996 for 4 rounds\n",
      "Best params: 5, 5, 0.7,error: 0.37460039999999994\n",
      "CV with max_depth=5, min_child_weight=6, eta = 0.7\n",
      "\terror 0.37457039999999997 for 4 rounds\n",
      "Best params: 5, 6, 0.7,error: 0.37457039999999997\n",
      "CV with max_depth=5, min_child_weight=6, eta = 0.8\n",
      "\terror 0.376286 for 4 rounds\n",
      "Best params: 5, 6, 0.7,error: 0.37457039999999997\n",
      "CV with max_depth=5, min_child_weight=6, eta = 0.9\n",
      "\terror 0.37513699999999994 for 4 rounds\n",
      "Best params: 5, 6, 0.7,error: 0.37457039999999997\n",
      "CV with max_depth=5, min_child_weight=7, eta = 0.5\n",
      "\terror 0.375953 for 4 rounds\n",
      "Best params: 5, 6, 0.7,error: 0.37457039999999997\n",
      "CV with max_depth=5, min_child_weight=7, eta = 0.6\n",
      "\terror 0.3746934 for 4 rounds\n",
      "Best params: 5, 6, 0.7,error: 0.37457039999999997\n",
      "CV with max_depth=5, min_child_weight=7, eta = 0.7\n",
      "\terror 0.37457039999999997 for 4 rounds\n",
      "Best params: 5, 6, 0.7,error: 0.37457039999999997\n",
      "CV with max_depth=5, min_child_weight=7, eta = 0.8\n",
      "\terror 0.37619600000000003 for 4 rounds\n",
      "Best params: 5, 6, 0.7,error: 0.37457039999999997\n",
      "CV with max_depth=5, min_child_weight=7, eta = 0.9\n",
      "\terror 0.375131 for 4 rounds\n",
      "Best params: 5, 6, 0.7,error: 0.37457039999999997\n",
      "CV with max_depth=15, min_child_weight=5, eta = 0.5\n",
      "\terror 0.3615776 for 4 rounds\n",
      "Best params: 15, 5, 0.5,error: 0.3615776\n",
      "CV with max_depth=15, min_child_weight=5, eta = 0.6\n",
      "\terror 0.3618266 for 4 rounds\n",
      "Best params: 15, 5, 0.5,error: 0.3615776\n",
      "CV with max_depth=15, min_child_weight=5, eta = 0.7\n",
      "\terror 0.3615716 for 4 rounds\n",
      "Best params: 15, 5, 0.7,error: 0.3615716\n",
      "CV with max_depth=15, min_child_weight=5, eta = 0.8\n",
      "\terror 0.36549760000000003 for 4 rounds\n",
      "Best params: 15, 5, 0.7,error: 0.3615716\n",
      "CV with max_depth=15, min_child_weight=5, eta = 0.9\n",
      "\terror 0.367228 for 4 rounds\n",
      "Best params: 15, 5, 0.7,error: 0.3615716\n",
      "CV with max_depth=15, min_child_weight=6, eta = 0.5\n",
      "\terror 0.3614996 for 4 rounds\n",
      "Best params: 15, 6, 0.5,error: 0.3614996\n",
      "CV with max_depth=15, min_child_weight=6, eta = 0.6\n",
      "\terror 0.3625732 for 4 rounds\n",
      "Best params: 15, 6, 0.5,error: 0.3614996\n",
      "CV with max_depth=15, min_child_weight=6, eta = 0.7\n",
      "\terror 0.3634912 for 4 rounds\n",
      "Best params: 15, 6, 0.5,error: 0.3614996\n",
      "CV with max_depth=15, min_child_weight=6, eta = 0.8\n",
      "\terror 0.36413260000000003 for 4 rounds\n",
      "Best params: 15, 6, 0.5,error: 0.3614996\n",
      "CV with max_depth=15, min_child_weight=6, eta = 0.9\n",
      "\terror 0.3666644 for 4 rounds\n",
      "Best params: 15, 6, 0.5,error: 0.3614996\n",
      "CV with max_depth=15, min_child_weight=7, eta = 0.5\n",
      "\terror 0.3621984 for 4 rounds\n",
      "Best params: 15, 6, 0.5,error: 0.3614996\n",
      "CV with max_depth=15, min_child_weight=7, eta = 0.6\n",
      "\terror 0.36236339999999995 for 4 rounds\n",
      "Best params: 15, 6, 0.5,error: 0.3614996\n",
      "CV with max_depth=15, min_child_weight=7, eta = 0.7\n",
      "\terror 0.363323 for 4 rounds\n",
      "Best params: 15, 6, 0.5,error: 0.3614996\n",
      "CV with max_depth=15, min_child_weight=7, eta = 0.8\n",
      "\terror 0.3655874 for 4 rounds\n",
      "Best params: 15, 6, 0.5,error: 0.3614996\n",
      "CV with max_depth=15, min_child_weight=7, eta = 0.9\n",
      "\terror 0.3658844 for 4 rounds\n",
      "Best params: 15, 6, 0.5,error: 0.3614996\n",
      "CV with max_depth=20, min_child_weight=5, eta = 0.5\n",
      "\terror 0.35859319999999995 for 4 rounds\n",
      "Best params: 20, 5, 0.5,error: 0.35859319999999995\n",
      "CV with max_depth=20, min_child_weight=5, eta = 0.6\n",
      "\terror 0.3615506 for 4 rounds\n",
      "Best params: 20, 5, 0.5,error: 0.35859319999999995\n",
      "CV with max_depth=20, min_child_weight=5, eta = 0.7\n",
      "\terror 0.3625372 for 4 rounds\n",
      "Best params: 20, 5, 0.5,error: 0.35859319999999995\n",
      "CV with max_depth=20, min_child_weight=5, eta = 0.8\n",
      "\terror 0.36513460000000003 for 4 rounds\n",
      "Best params: 20, 5, 0.5,error: 0.35859319999999995\n",
      "CV with max_depth=20, min_child_weight=5, eta = 0.9\n",
      "\terror 0.36697939999999996 for 4 rounds\n",
      "Best params: 20, 5, 0.5,error: 0.35859319999999995\n",
      "CV with max_depth=20, min_child_weight=6, eta = 0.5\n",
      "\terror 0.35976600000000003 for 4 rounds\n",
      "Best params: 20, 5, 0.5,error: 0.35859319999999995\n",
      "CV with max_depth=20, min_child_weight=6, eta = 0.6\n",
      "\terror 0.3605218 for 4 rounds\n",
      "Best params: 20, 5, 0.5,error: 0.35859319999999995\n",
      "CV with max_depth=20, min_child_weight=6, eta = 0.7\n",
      "\terror 0.363881 for 4 rounds\n",
      "Best params: 20, 5, 0.5,error: 0.35859319999999995\n",
      "CV with max_depth=20, min_child_weight=6, eta = 0.8\n",
      "\terror 0.3653984 for 4 rounds\n",
      "Best params: 20, 5, 0.5,error: 0.35859319999999995\n",
      "CV with max_depth=20, min_child_weight=6, eta = 0.9\n",
      "\terror 0.36732719999999996 for 4 rounds\n",
      "Best params: 20, 5, 0.5,error: 0.35859319999999995\n",
      "CV with max_depth=20, min_child_weight=7, eta = 0.5\n",
      "\terror 0.359493 for 4 rounds\n",
      "Best params: 20, 5, 0.5,error: 0.35859319999999995\n",
      "CV with max_depth=20, min_child_weight=7, eta = 0.6\n",
      "\terror 0.36196140000000004 for 4 rounds\n",
      "Best params: 20, 5, 0.5,error: 0.35859319999999995\n",
      "CV with max_depth=20, min_child_weight=7, eta = 0.7\n",
      "\terror 0.36319100000000004 for 4 rounds\n",
      "Best params: 20, 5, 0.5,error: 0.35859319999999995\n",
      "CV with max_depth=20, min_child_weight=7, eta = 0.8\n",
      "\terror 0.3652396 for 4 rounds\n",
      "Best params: 20, 5, 0.5,error: 0.35859319999999995\n",
      "CV with max_depth=20, min_child_weight=7, eta = 0.9\n",
      "\terror 0.3682688 for 4 rounds\n",
      "Best params: 20, 5, 0.5,error: 0.35859319999999995\n",
      "CV with max_depth=25, min_child_weight=5, eta = 0.5\n",
      "\terror 0.3583804 for 4 rounds\n",
      "Best params: 25, 5, 0.5,error: 0.3583804\n",
      "CV with max_depth=25, min_child_weight=5, eta = 0.6\n",
      "\terror 0.3601828 for 4 rounds\n",
      "Best params: 25, 5, 0.5,error: 0.3583804\n",
      "CV with max_depth=25, min_child_weight=5, eta = 0.7\n",
      "\terror 0.3629574 for 4 rounds\n",
      "Best params: 25, 5, 0.5,error: 0.3583804\n",
      "CV with max_depth=25, min_child_weight=5, eta = 0.8\n",
      "\terror 0.3645918 for 4 rounds\n",
      "Best params: 25, 5, 0.5,error: 0.3583804\n",
      "CV with max_depth=25, min_child_weight=5, eta = 0.9\n",
      "\terror 0.36614840000000004 for 4 rounds\n",
      "Best params: 25, 5, 0.5,error: 0.3583804\n",
      "CV with max_depth=25, min_child_weight=6, eta = 0.5\n",
      "\terror 0.358974 for 4 rounds\n",
      "Best params: 25, 5, 0.5,error: 0.3583804\n",
      "CV with max_depth=25, min_child_weight=6, eta = 0.6\n",
      "\terror 0.3603478 for 4 rounds\n",
      "Best params: 25, 5, 0.5,error: 0.3583804\n",
      "CV with max_depth=25, min_child_weight=6, eta = 0.7\n",
      "\terror 0.3626514 for 4 rounds\n",
      "Best params: 25, 5, 0.5,error: 0.3583804\n",
      "CV with max_depth=25, min_child_weight=6, eta = 0.8\n",
      "\terror 0.3651706 for 4 rounds\n",
      "Best params: 25, 5, 0.5,error: 0.3583804\n",
      "CV with max_depth=25, min_child_weight=6, eta = 0.9\n",
      "\terror 0.3675672 for 4 rounds\n",
      "Best params: 25, 5, 0.5,error: 0.3583804\n",
      "CV with max_depth=25, min_child_weight=7, eta = 0.5\n",
      "\terror 0.3601708 for 4 rounds\n",
      "Best params: 25, 5, 0.5,error: 0.3583804\n",
      "CV with max_depth=25, min_child_weight=7, eta = 0.6\n",
      "\terror 0.3611818 for 4 rounds\n",
      "Best params: 25, 5, 0.5,error: 0.3583804\n",
      "CV with max_depth=25, min_child_weight=7, eta = 0.7\n",
      "\terror 0.3632692 for 4 rounds\n",
      "Best params: 25, 5, 0.5,error: 0.3583804\n",
      "CV with max_depth=25, min_child_weight=7, eta = 0.8\n",
      "\terror 0.3672072 for 4 rounds\n",
      "Best params: 25, 5, 0.5,error: 0.3583804\n",
      "CV with max_depth=25, min_child_weight=7, eta = 0.9\n",
      "\terror 0.36898559999999997 for 4 rounds\n",
      "Best params: 25, 5, 0.5,error: 0.3583804\n",
      "CV with max_depth=30, min_child_weight=5, eta = 0.5\n",
      "\terror 0.3576664 for 4 rounds\n",
      "Best params: 30, 5, 0.5,error: 0.3576664\n",
      "CV with max_depth=30, min_child_weight=5, eta = 0.6\n",
      "\terror 0.35927420000000004 for 4 rounds\n",
      "Best params: 30, 5, 0.5,error: 0.3576664\n",
      "CV with max_depth=30, min_child_weight=5, eta = 0.7\n",
      "\terror 0.3613676 for 4 rounds\n",
      "Best params: 30, 5, 0.5,error: 0.3576664\n",
      "CV with max_depth=30, min_child_weight=5, eta = 0.8\n"
     ]
    },
    {
     "name": "stdout",
     "output_type": "stream",
     "text": [
      "\terror 0.36215639999999993 for 4 rounds\n",
      "Best params: 30, 5, 0.5,error: 0.3576664\n",
      "CV with max_depth=30, min_child_weight=5, eta = 0.9\n",
      "\terror 0.36365300000000006 for 4 rounds\n",
      "Best params: 30, 5, 0.5,error: 0.3576664\n",
      "CV with max_depth=30, min_child_weight=6, eta = 0.5\n",
      "\terror 0.3577654 for 4 rounds\n",
      "Best params: 30, 5, 0.5,error: 0.3576664\n",
      "CV with max_depth=30, min_child_weight=6, eta = 0.6\n",
      "\terror 0.3613496 for 4 rounds\n",
      "Best params: 30, 5, 0.5,error: 0.3576664\n",
      "CV with max_depth=30, min_child_weight=6, eta = 0.7\n",
      "\terror 0.36251639999999996 for 4 rounds\n",
      "Best params: 30, 5, 0.5,error: 0.3576664\n",
      "CV with max_depth=30, min_child_weight=6, eta = 0.8\n",
      "\terror 0.36388380000000004 for 4 rounds\n",
      "Best params: 30, 5, 0.5,error: 0.3576664\n",
      "CV with max_depth=30, min_child_weight=6, eta = 0.9\n",
      "\terror 0.36779799999999996 for 4 rounds\n",
      "Best params: 30, 5, 0.5,error: 0.3576664\n",
      "CV with max_depth=30, min_child_weight=7, eta = 0.5\n",
      "\terror 0.35887520000000006 for 4 rounds\n",
      "Best params: 30, 5, 0.5,error: 0.3576664\n",
      "CV with max_depth=30, min_child_weight=7, eta = 0.6\n",
      "\terror 0.36012900000000003 for 4 rounds\n",
      "Best params: 30, 5, 0.5,error: 0.3576664\n",
      "CV with max_depth=30, min_child_weight=7, eta = 0.7\n",
      "\terror 0.3614518 for 4 rounds\n",
      "Best params: 30, 5, 0.5,error: 0.3576664\n",
      "CV with max_depth=30, min_child_weight=7, eta = 0.8\n",
      "\terror 0.36350899999999997 for 4 rounds\n",
      "Best params: 30, 5, 0.5,error: 0.3576664\n",
      "CV with max_depth=30, min_child_weight=7, eta = 0.9\n",
      "\terror 0.36701520000000004 for 4 rounds\n",
      "Best params: 30, 5, 0.5,error: 0.3576664\n"
     ]
    }
   ],
   "source": [
    "min_error = float(\"Inf\")\n",
    "n_estimators = 5\n",
    "best_params = None\n",
    "for max_depth, min_child_weight, eta in gridsearch_params:\n",
    "    print(\"CV with max_depth={}, min_child_weight={}, eta = {}\".format(\n",
    "                             max_depth,\n",
    "                             min_child_weight, eta))\n",
    "    param_dist['max_depth'] = max_depth\n",
    "    param_dist['min_child_weight'] = min_child_weight  \n",
    "    param_dist['eta'] = eta\n",
    "    cv_results = xgb.cv(\n",
    "        param_dist,\n",
    "        dtrain,\n",
    "        num_boost_round=n_estimators,\n",
    "        seed=42,\n",
    "        nfold=5,\n",
    "        metrics={'error'}\n",
    "    ) \n",
    "    mean_error = cv_results['test-error-mean'].min()\n",
    "    boost_rounds = cv_results['test-error-mean'].argmin()\n",
    "    print(\"\\terror {} for {} rounds\".format(mean_error, boost_rounds))\n",
    "    if mean_error < min_error:\n",
    "        min_error = mean_error\n",
    "        best_params = (max_depth,min_child_weight, eta)\n",
    "    print(\"Best params: {}, {}, {},error: {}\".format(best_params[0], best_params[1], best_params[2], min_error))"
   ]
  },
  {
   "cell_type": "markdown",
   "id": "smoking-subscription",
   "metadata": {},
   "source": [
    "### Training"
   ]
  },
  {
   "cell_type": "markdown",
   "id": "diverse-taxation",
   "metadata": {},
   "source": [
    "### With only manually extracted features"
   ]
  },
  {
   "cell_type": "code",
   "execution_count": 145,
   "id": "talented-metropolitan",
   "metadata": {},
   "outputs": [],
   "source": [
    "param_dist = {'objective':'binary:logistic', 'n_estimators':100, 'max_depth':15}\n",
    "param_dist['max_depth'] = best_params[0]\n",
    "param_dist['min_child_weight'] = best_params[1]  \n",
    "param_dist['eta'] = best_params[2]\n",
    "clf = xgb.XGBModel(**param_dist)"
   ]
  },
  {
   "cell_type": "code",
   "execution_count": 146,
   "id": "removable-rating",
   "metadata": {},
   "outputs": [
    {
     "name": "stdout",
     "output_type": "stream",
     "text": [
      "[0]\tvalidation_0-error:0.18157\tvalidation_1-error:0.19451\n",
      "[1]\tvalidation_0-error:0.17504\tvalidation_1-error:0.18417\n",
      "[2]\tvalidation_0-error:0.17241\tvalidation_1-error:0.18269\n",
      "[3]\tvalidation_0-error:0.16954\tvalidation_1-error:0.18185\n",
      "[4]\tvalidation_0-error:0.16723\tvalidation_1-error:0.18174\n",
      "[5]\tvalidation_0-error:0.16224\tvalidation_1-error:0.18221\n",
      "[6]\tvalidation_0-error:0.15926\tvalidation_1-error:0.18287\n",
      "[7]\tvalidation_0-error:0.15618\tvalidation_1-error:0.18279\n",
      "[8]\tvalidation_0-error:0.15327\tvalidation_1-error:0.18313\n",
      "[9]\tvalidation_0-error:0.15135\tvalidation_1-error:0.18322\n",
      "[10]\tvalidation_0-error:0.14776\tvalidation_1-error:0.18384\n",
      "[11]\tvalidation_0-error:0.14481\tvalidation_1-error:0.18430\n",
      "[12]\tvalidation_0-error:0.14258\tvalidation_1-error:0.18478\n",
      "[13]\tvalidation_0-error:0.14091\tvalidation_1-error:0.18471\n",
      "[14]\tvalidation_0-error:0.13869\tvalidation_1-error:0.18499\n",
      "[15]\tvalidation_0-error:0.13809\tvalidation_1-error:0.18515\n",
      "[16]\tvalidation_0-error:0.13724\tvalidation_1-error:0.18522\n",
      "[17]\tvalidation_0-error:0.13626\tvalidation_1-error:0.18521\n",
      "[18]\tvalidation_0-error:0.13443\tvalidation_1-error:0.18579\n",
      "[19]\tvalidation_0-error:0.13265\tvalidation_1-error:0.18655\n",
      "[20]\tvalidation_0-error:0.13206\tvalidation_1-error:0.18671\n",
      "[21]\tvalidation_0-error:0.13004\tvalidation_1-error:0.18696\n",
      "[22]\tvalidation_0-error:0.12749\tvalidation_1-error:0.18762\n",
      "[23]\tvalidation_0-error:0.12545\tvalidation_1-error:0.18799\n",
      "[24]\tvalidation_0-error:0.12435\tvalidation_1-error:0.18781\n",
      "[25]\tvalidation_0-error:0.12175\tvalidation_1-error:0.18828\n",
      "[26]\tvalidation_0-error:0.11890\tvalidation_1-error:0.18892\n",
      "[27]\tvalidation_0-error:0.11716\tvalidation_1-error:0.18869\n",
      "[28]\tvalidation_0-error:0.11546\tvalidation_1-error:0.18883\n",
      "[29]\tvalidation_0-error:0.11425\tvalidation_1-error:0.18885\n",
      "[30]\tvalidation_0-error:0.11346\tvalidation_1-error:0.18883\n",
      "[31]\tvalidation_0-error:0.11210\tvalidation_1-error:0.18918\n",
      "[32]\tvalidation_0-error:0.10973\tvalidation_1-error:0.18953\n",
      "[33]\tvalidation_0-error:0.10874\tvalidation_1-error:0.18961\n",
      "[34]\tvalidation_0-error:0.10759\tvalidation_1-error:0.18962\n",
      "[35]\tvalidation_0-error:0.10548\tvalidation_1-error:0.19008\n",
      "[36]\tvalidation_0-error:0.10491\tvalidation_1-error:0.19002\n",
      "[37]\tvalidation_0-error:0.10386\tvalidation_1-error:0.19027\n",
      "[38]\tvalidation_0-error:0.10346\tvalidation_1-error:0.19040\n",
      "[39]\tvalidation_0-error:0.10329\tvalidation_1-error:0.19043\n",
      "[40]\tvalidation_0-error:0.10301\tvalidation_1-error:0.19025\n",
      "[41]\tvalidation_0-error:0.10250\tvalidation_1-error:0.19024\n",
      "[42]\tvalidation_0-error:0.10186\tvalidation_1-error:0.19015\n",
      "[43]\tvalidation_0-error:0.10065\tvalidation_1-error:0.19020\n",
      "[44]\tvalidation_0-error:0.10028\tvalidation_1-error:0.19017\n",
      "[45]\tvalidation_0-error:0.09996\tvalidation_1-error:0.19023\n",
      "[46]\tvalidation_0-error:0.09956\tvalidation_1-error:0.19026\n",
      "[47]\tvalidation_0-error:0.09922\tvalidation_1-error:0.19038\n",
      "[48]\tvalidation_0-error:0.09860\tvalidation_1-error:0.19036\n",
      "[49]\tvalidation_0-error:0.09808\tvalidation_1-error:0.19051\n",
      "[50]\tvalidation_0-error:0.09682\tvalidation_1-error:0.19038\n",
      "[51]\tvalidation_0-error:0.09627\tvalidation_1-error:0.19045\n",
      "[52]\tvalidation_0-error:0.09527\tvalidation_1-error:0.19057\n",
      "[53]\tvalidation_0-error:0.09414\tvalidation_1-error:0.19062\n",
      "[54]\tvalidation_0-error:0.09304\tvalidation_1-error:0.19086\n",
      "[55]\tvalidation_0-error:0.09062\tvalidation_1-error:0.19127\n",
      "[56]\tvalidation_0-error:0.08926\tvalidation_1-error:0.19176\n",
      "[57]\tvalidation_0-error:0.08848\tvalidation_1-error:0.19199\n",
      "[58]\tvalidation_0-error:0.08737\tvalidation_1-error:0.19214\n",
      "[59]\tvalidation_0-error:0.08630\tvalidation_1-error:0.19194\n",
      "[60]\tvalidation_0-error:0.08529\tvalidation_1-error:0.19206\n",
      "[61]\tvalidation_0-error:0.08469\tvalidation_1-error:0.19234\n",
      "[62]\tvalidation_0-error:0.08435\tvalidation_1-error:0.19242\n",
      "[63]\tvalidation_0-error:0.08410\tvalidation_1-error:0.19235\n",
      "[64]\tvalidation_0-error:0.08354\tvalidation_1-error:0.19240\n",
      "[65]\tvalidation_0-error:0.08215\tvalidation_1-error:0.19232\n",
      "[66]\tvalidation_0-error:0.08168\tvalidation_1-error:0.19250\n",
      "[67]\tvalidation_0-error:0.07937\tvalidation_1-error:0.19288\n",
      "[68]\tvalidation_0-error:0.07822\tvalidation_1-error:0.19302\n",
      "[69]\tvalidation_0-error:0.07785\tvalidation_1-error:0.19286\n",
      "[70]\tvalidation_0-error:0.07741\tvalidation_1-error:0.19294\n",
      "[71]\tvalidation_0-error:0.07713\tvalidation_1-error:0.19297\n",
      "[72]\tvalidation_0-error:0.07659\tvalidation_1-error:0.19325\n",
      "[73]\tvalidation_0-error:0.07607\tvalidation_1-error:0.19309\n",
      "[74]\tvalidation_0-error:0.07593\tvalidation_1-error:0.19290\n",
      "[75]\tvalidation_0-error:0.07582\tvalidation_1-error:0.19290\n",
      "[76]\tvalidation_0-error:0.07568\tvalidation_1-error:0.19273\n",
      "[77]\tvalidation_0-error:0.07475\tvalidation_1-error:0.19302\n",
      "[78]\tvalidation_0-error:0.07415\tvalidation_1-error:0.19312\n",
      "[79]\tvalidation_0-error:0.07336\tvalidation_1-error:0.19367\n",
      "[80]\tvalidation_0-error:0.07243\tvalidation_1-error:0.19374\n",
      "[81]\tvalidation_0-error:0.07190\tvalidation_1-error:0.19367\n",
      "[82]\tvalidation_0-error:0.07159\tvalidation_1-error:0.19360\n",
      "[83]\tvalidation_0-error:0.07104\tvalidation_1-error:0.19381\n",
      "[84]\tvalidation_0-error:0.06958\tvalidation_1-error:0.19384\n",
      "[85]\tvalidation_0-error:0.06895\tvalidation_1-error:0.19375\n",
      "[86]\tvalidation_0-error:0.06805\tvalidation_1-error:0.19380\n",
      "[87]\tvalidation_0-error:0.06667\tvalidation_1-error:0.19348\n",
      "[88]\tvalidation_0-error:0.06618\tvalidation_1-error:0.19338\n",
      "[89]\tvalidation_0-error:0.06508\tvalidation_1-error:0.19350\n",
      "[90]\tvalidation_0-error:0.06412\tvalidation_1-error:0.19392\n",
      "[91]\tvalidation_0-error:0.06281\tvalidation_1-error:0.19381\n",
      "[92]\tvalidation_0-error:0.06252\tvalidation_1-error:0.19354\n",
      "[93]\tvalidation_0-error:0.06205\tvalidation_1-error:0.19333\n",
      "[94]\tvalidation_0-error:0.06161\tvalidation_1-error:0.19339\n",
      "[95]\tvalidation_0-error:0.06133\tvalidation_1-error:0.19355\n",
      "[96]\tvalidation_0-error:0.06056\tvalidation_1-error:0.19367\n",
      "[97]\tvalidation_0-error:0.06038\tvalidation_1-error:0.19372\n",
      "[98]\tvalidation_0-error:0.06023\tvalidation_1-error:0.19376\n",
      "[99]\tvalidation_0-error:0.05955\tvalidation_1-error:0.19382\n"
     ]
    },
    {
     "data": {
      "text/plain": [
       "XGBModel(base_score=0.5, booster='gbtree', colsample_bylevel=1,\n",
       "         colsample_bynode=1, colsample_bytree=1, eta=0.5, gamma=0, gpu_id=-1,\n",
       "         interaction_constraints='', learning_rate=0.5, max_delta_step=0,\n",
       "         max_depth=30, min_child_weight=5, monotone_constraints='()', n_jobs=8,\n",
       "         num_parallel_tree=1, objective='binary:logistic', predictor='auto',\n",
       "         random_state=0, reg_alpha=0, reg_lambda=1, scale_pos_weight=1,\n",
       "         subsample=1, tree_method='exact', validate_parameters=1)"
      ]
     },
     "execution_count": 146,
     "metadata": {},
     "output_type": "execute_result"
    }
   ],
   "source": [
    "clf.fit(X_train, y_train,\n",
    "        eval_set=[(X_train, y_train), (X_test, y_test)],\n",
    "        eval_metric='error',\n",
    "        verbose=True)"
   ]
  },
  {
   "cell_type": "code",
   "execution_count": 147,
   "id": "impressive-silly",
   "metadata": {},
   "outputs": [],
   "source": [
    "features = ['average_AoA_Kup_lem',\n",
    "       'percentage_of_basic_words', 'average_concreteness',\n",
    "       'average_percentage_known']"
   ]
  },
  {
   "cell_type": "code",
   "execution_count": 85,
   "id": "current-anime",
   "metadata": {},
   "outputs": [
    {
     "name": "stdout",
     "output_type": "stream",
     "text": [
      "['average_AoA_Kup_lem', 'percentage_of_basic_words', 'average_concreteness', 'average_percentage_known']\n"
     ]
    }
   ],
   "source": [
    "print(features)"
   ]
  },
  {
   "cell_type": "code",
   "execution_count": 83,
   "id": "supreme-barrel",
   "metadata": {},
   "outputs": [
    {
     "data": {
      "image/png": "[encoded data removed]",
      "text/plain": [
       "<Figure size 432x288 with 1 Axes>"
      ]
     },
     "metadata": {
      "needs_background": "light"
     },
     "output_type": "display_data"
    }
   ],
   "source": [
    "from xgboost import plot_importance\n",
    "from matplotlib import pyplot\n",
    "\n",
    "# plot feature importance\n",
    "plot_importance(clf)\n",
    "pyplot.show()"
   ]
  },
  {
   "cell_type": "markdown",
   "id": "continued-counter",
   "metadata": {},
   "source": [
    "### With BERT feature"
   ]
  },
  {
   "cell_type": "code",
   "execution_count": 148,
   "id": "tutorial-liquid",
   "metadata": {},
   "outputs": [],
   "source": [
    "X = train[['average_AoA_Kup_lem',\n",
    "       'percentage_of_basic_words', 'average_concreteness',\n",
    "       'average_percentage_known', 'bert']]\n",
    "X_train, X_test, y_train, y_test = train_test_split(X, y, test_size=0.2, random_state=42)"
   ]
  },
  {
   "cell_type": "code",
   "execution_count": 149,
   "id": "certain-campus",
   "metadata": {},
   "outputs": [
    {
     "name": "stdout",
     "output_type": "stream",
     "text": [
      "[0]\tvalidation_0-error:0.18157\tvalidation_1-error:0.19451\n",
      "[1]\tvalidation_0-error:0.17504\tvalidation_1-error:0.18417\n",
      "[2]\tvalidation_0-error:0.17241\tvalidation_1-error:0.18269\n",
      "[3]\tvalidation_0-error:0.16954\tvalidation_1-error:0.18185\n",
      "[4]\tvalidation_0-error:0.16723\tvalidation_1-error:0.18174\n",
      "[5]\tvalidation_0-error:0.16224\tvalidation_1-error:0.18221\n",
      "[6]\tvalidation_0-error:0.15926\tvalidation_1-error:0.18287\n",
      "[7]\tvalidation_0-error:0.15618\tvalidation_1-error:0.18279\n",
      "[8]\tvalidation_0-error:0.15327\tvalidation_1-error:0.18313\n",
      "[9]\tvalidation_0-error:0.15135\tvalidation_1-error:0.18322\n",
      "[10]\tvalidation_0-error:0.14776\tvalidation_1-error:0.18384\n",
      "[11]\tvalidation_0-error:0.14481\tvalidation_1-error:0.18430\n",
      "[12]\tvalidation_0-error:0.14258\tvalidation_1-error:0.18478\n",
      "[13]\tvalidation_0-error:0.14091\tvalidation_1-error:0.18471\n",
      "[14]\tvalidation_0-error:0.13869\tvalidation_1-error:0.18499\n",
      "[15]\tvalidation_0-error:0.13809\tvalidation_1-error:0.18515\n",
      "[16]\tvalidation_0-error:0.13724\tvalidation_1-error:0.18522\n",
      "[17]\tvalidation_0-error:0.13626\tvalidation_1-error:0.18521\n",
      "[18]\tvalidation_0-error:0.13443\tvalidation_1-error:0.18579\n",
      "[19]\tvalidation_0-error:0.13265\tvalidation_1-error:0.18655\n"
     ]
    },
    {
     "data": {
      "text/plain": [
       "XGBModel(base_score=0.5, booster='gbtree', colsample_bylevel=1,\n",
       "         colsample_bynode=1, colsample_bytree=1, eta=0.5, gamma=0, gpu_id=-1,\n",
       "         interaction_constraints='', learning_rate=0.5, max_delta_step=0,\n",
       "         max_depth=30, min_child_weight=5, monotone_constraints='()',\n",
       "         n_estimators=20, n_jobs=8, num_parallel_tree=1,\n",
       "         objective='binary:logistic', predictor='auto', random_state=0,\n",
       "         reg_alpha=0, reg_lambda=1, scale_pos_weight=1, subsample=1,\n",
       "         tree_method='exact', validate_parameters=1)"
      ]
     },
     "execution_count": 149,
     "metadata": {},
     "output_type": "execute_result"
    }
   ],
   "source": [
    "param_dist['n_estimators'] = 20\n",
    "clf = xgb.XGBModel(**param_dist)\n",
    "clf.fit(X_train, y_train,\n",
    "        eval_set=[(X_train, y_train), (X_test, y_test)],\n",
    "        eval_metric='error',\n",
    "        verbose=True)"
   ]
  },
  {
   "cell_type": "code",
   "execution_count": 180,
   "id": "loved-failure",
   "metadata": {},
   "outputs": [
    {
     "name": "stdout",
     "output_type": "stream",
     "text": [
      "['average_AoA_Kup_lem', 'percentage_of_basic_words', 'average_concreteness', 'average_percentage_known', 'bert']\n"
     ]
    }
   ],
   "source": [
    "features = ['average_AoA_Kup_lem',\n",
    "       'percentage_of_basic_words', 'average_concreteness',\n",
    "       'average_percentage_known', 'bert']\n",
    "print(features)"
   ]
  },
  {
   "cell_type": "code",
   "execution_count": 179,
   "id": "smoking-meaning",
   "metadata": {},
   "outputs": [
    {
     "data": {
      "image/png": "[encoded data removed]",
      "text/plain": [
       "<Figure size 640x480 with 1 Axes>"
      ]
     },
     "metadata": {},
     "output_type": "display_data"
    }
   ],
   "source": [
    "# plot feature importance\n",
    "plot_importance(clf)\n",
    "pyplot.show()"
   ]
  },
  {
   "cell_type": "markdown",
   "id": "ultimate-director",
   "metadata": {},
   "source": [
    "### Generate Result File"
   ]
  },
  {
   "cell_type": "code",
   "execution_count": 66,
   "id": "refined-auckland",
   "metadata": {},
   "outputs": [],
   "source": [
    "test = pd.read_csv('test_data_with_feature.csv')"
   ]
  },
  {
   "cell_type": "code",
   "execution_count": 105,
   "id": "russian-symphony",
   "metadata": {},
   "outputs": [],
   "source": [
    "extra = pd.read_csv('test_data_bert_label.csv')"
   ]
  },
  {
   "cell_type": "code",
   "execution_count": 67,
   "id": "danish-equipment",
   "metadata": {},
   "outputs": [],
   "source": [
    "test = test.fillna(0)"
   ]
  },
  {
   "cell_type": "code",
   "execution_count": 110,
   "id": "romance-resource",
   "metadata": {},
   "outputs": [],
   "source": [
    "test['bert'] = extra['label']"
   ]
  },
  {
   "cell_type": "code",
   "execution_count": 68,
   "id": "governmental-bishop",
   "metadata": {},
   "outputs": [],
   "source": [
    "X = test[['average_AoA_Kup_lem',\n",
    "       'percentage_of_basic_words', 'average_concreteness',\n",
    "       'average_percentage_known']]\n",
    "X = scaler.transform(X)"
   ]
  },
  {
   "cell_type": "code",
   "execution_count": 69,
   "id": "potential-reporter",
   "metadata": {},
   "outputs": [],
   "source": [
    "dtest = xgb.DMatrix(X)"
   ]
  },
  {
   "cell_type": "code",
   "execution_count": 113,
   "id": "confirmed-perspective",
   "metadata": {},
   "outputs": [],
   "source": [
    "X = test[['average_AoA_Kup_lem',\n",
    "       'percentage_of_basic_words', 'average_concreteness',\n",
    "       'average_percentage_known','bert']]"
   ]
  },
  {
   "cell_type": "code",
   "execution_count": 114,
   "id": "perfect-establishment",
   "metadata": {},
   "outputs": [],
   "source": [
    "ypred = clf.predict(X)"
   ]
  },
  {
   "cell_type": "code",
   "execution_count": 115,
   "id": "union-terminal",
   "metadata": {},
   "outputs": [],
   "source": [
    "result = ypred > 0.5"
   ]
  },
  {
   "cell_type": "code",
   "execution_count": 116,
   "id": "instructional-master",
   "metadata": {},
   "outputs": [],
   "source": [
    "result = pd.DataFrame(result)"
   ]
  },
  {
   "cell_type": "code",
   "execution_count": 117,
   "id": "wired-uruguay",
   "metadata": {},
   "outputs": [],
   "source": [
    "result[0] = result[0].astype(int)"
   ]
  },
  {
   "cell_type": "code",
   "execution_count": 118,
   "id": "nutritional-breath",
   "metadata": {},
   "outputs": [],
   "source": [
    "result.columns = ['label']"
   ]
  },
  {
   "cell_type": "code",
   "execution_count": 119,
   "id": "attractive-natural",
   "metadata": {},
   "outputs": [],
   "source": [
    "result.index.name = 'id'"
   ]
  },
  {
   "cell_type": "code",
   "execution_count": 120,
   "id": "green-attribute",
   "metadata": {},
   "outputs": [],
   "source": [
    "result.to_csv('testing.csv')"
   ]
  },
  {
   "cell_type": "code",
   "execution_count": null,
   "id": "limiting-proportion",
   "metadata": {},
   "outputs": [],
   "source": []
  },
  {
   "cell_type": "code",
   "execution_count": null,
   "id": "later-zoning",
   "metadata": {},
   "outputs": [],
   "source": []
  },
  {
   "cell_type": "markdown",
   "id": "funny-klein",
   "metadata": {},
   "source": [
    "### Sensitivity analysis"
   ]
  },
  {
   "cell_type": "code",
   "execution_count": 185,
   "id": "wound-litigation",
   "metadata": {},
   "outputs": [],
   "source": [
    "param_dist = {'objective':'binary:logistic', 'n_estimators':20, 'max_depth':15}\n",
    "param_dist['max_depth'] = best_params[0]\n",
    "param_dist['min_child_weight'] = best_params[1]  \n",
    "param_dist['eta'] = best_params[2]\n",
    "clf = xgb.XGBModel(**param_dist)"
   ]
  },
  {
   "cell_type": "code",
   "execution_count": 188,
   "id": "quantitative-cyprus",
   "metadata": {},
   "outputs": [],
   "source": [
    "X = train[['average_AoA_Kup_lem',\n",
    "       'percentage_of_basic_words', 'average_concreteness',\n",
    "       'average_percentage_known', 'bert']]\n",
    "X_train, X_test, y_train, y_test = train_test_split(X, y, test_size=0.2, random_state=42)"
   ]
  },
  {
   "cell_type": "code",
   "execution_count": 189,
   "id": "parliamentary-spread",
   "metadata": {},
   "outputs": [
    {
     "name": "stdout",
     "output_type": "stream",
     "text": [
      "[0]\tvalidation_0-error:0.18157\tvalidation_1-error:0.19451\n",
      "[1]\tvalidation_0-error:0.17504\tvalidation_1-error:0.18417\n",
      "[2]\tvalidation_0-error:0.17241\tvalidation_1-error:0.18269\n",
      "[3]\tvalidation_0-error:0.16954\tvalidation_1-error:0.18185\n",
      "[4]\tvalidation_0-error:0.16723\tvalidation_1-error:0.18174\n",
      "[5]\tvalidation_0-error:0.16224\tvalidation_1-error:0.18221\n",
      "[6]\tvalidation_0-error:0.15926\tvalidation_1-error:0.18287\n",
      "[7]\tvalidation_0-error:0.15618\tvalidation_1-error:0.18279\n",
      "[8]\tvalidation_0-error:0.15327\tvalidation_1-error:0.18313\n",
      "[9]\tvalidation_0-error:0.15135\tvalidation_1-error:0.18322\n",
      "[10]\tvalidation_0-error:0.14776\tvalidation_1-error:0.18384\n",
      "[11]\tvalidation_0-error:0.14481\tvalidation_1-error:0.18430\n",
      "[12]\tvalidation_0-error:0.14258\tvalidation_1-error:0.18478\n",
      "[13]\tvalidation_0-error:0.14091\tvalidation_1-error:0.18471\n",
      "[14]\tvalidation_0-error:0.13869\tvalidation_1-error:0.18499\n",
      "[15]\tvalidation_0-error:0.13809\tvalidation_1-error:0.18515\n",
      "[16]\tvalidation_0-error:0.13724\tvalidation_1-error:0.18522\n",
      "[17]\tvalidation_0-error:0.13626\tvalidation_1-error:0.18521\n",
      "[18]\tvalidation_0-error:0.13443\tvalidation_1-error:0.18579\n",
      "[19]\tvalidation_0-error:0.13265\tvalidation_1-error:0.18655\n",
      "[20]\tvalidation_0-error:0.13206\tvalidation_1-error:0.18671\n",
      "[21]\tvalidation_0-error:0.13004\tvalidation_1-error:0.18696\n",
      "[22]\tvalidation_0-error:0.12749\tvalidation_1-error:0.18762\n",
      "[23]\tvalidation_0-error:0.12545\tvalidation_1-error:0.18799\n",
      "[24]\tvalidation_0-error:0.12435\tvalidation_1-error:0.18781\n",
      "[25]\tvalidation_0-error:0.12175\tvalidation_1-error:0.18828\n",
      "[26]\tvalidation_0-error:0.11890\tvalidation_1-error:0.18892\n",
      "[27]\tvalidation_0-error:0.11716\tvalidation_1-error:0.18869\n",
      "[28]\tvalidation_0-error:0.11546\tvalidation_1-error:0.18883\n",
      "[29]\tvalidation_0-error:0.11425\tvalidation_1-error:0.18885\n"
     ]
    },
    {
     "data": {
      "text/plain": [
       "XGBModel(base_score=0.5, booster='gbtree', colsample_bylevel=1,\n",
       "         colsample_bynode=1, colsample_bytree=1, eta=0.5, gamma=0, gpu_id=-1,\n",
       "         interaction_constraints='', learning_rate=0.5, max_delta_step=0,\n",
       "         max_depth=30, min_child_weight=5, monotone_constraints='()',\n",
       "         n_estimators=30, n_jobs=8, num_parallel_tree=1,\n",
       "         objective='binary:logistic', predictor='auto', random_state=0,\n",
       "         reg_alpha=0, reg_lambda=1, scale_pos_weight=1, subsample=1,\n",
       "         tree_method='exact', validate_parameters=1)"
      ]
     },
     "execution_count": 189,
     "metadata": {},
     "output_type": "execute_result"
    }
   ],
   "source": [
    "param_dist['n_estimators'] = 30\n",
    "clf = xgb.XGBModel(**param_dist)\n",
    "clf.fit(X_train, y_train,\n",
    "        eval_set=[(X_train, y_train), (X_test, y_test)],\n",
    "        eval_metric='error',\n",
    "        verbose=True)"
   ]
  },
  {
   "cell_type": "code",
   "execution_count": 200,
   "id": "exotic-design",
   "metadata": {},
   "outputs": [
    {
     "data": {
      "text/plain": [
       "[]"
      ]
     },
     "execution_count": 200,
     "metadata": {},
     "output_type": "execute_result"
    },
    {
     "data": {
      "image/png": "[encoded data removed]",
      "text/plain": [
       "<Figure size 640x480 with 1 Axes>"
      ]
     },
     "metadata": {},
     "output_type": "display_data"
    }
   ],
   "source": [
    "train_set_arr = [0.18157, 0.17504, 0.17241, 0.16954, 0.16723, 0.16224, 0.15926, 0.15618, 0.15327, 0.15135, 0.14776, 0.14481, 0.14091, 0.13869, 0.13809, 0.13724, 0.13626, 0.13443, 0.13265, 0.13206, 0.13004, 0.12749, 0.12545, 0.12435, 0.12175, 0.11890, 0.11716, 0.11546, 0.11425]\n",
    "\n",
    "plt.plot(train_set_arr)\n",
    "plt.xlabel('number of estimators')\n",
    "plt.ylabel('Training set error rate')\n",
    "plt.plot()"
   ]
  },
  {
   "cell_type": "code",
   "execution_count": 203,
   "id": "lyric-honor",
   "metadata": {},
   "outputs": [
    {
     "data": {
      "text/plain": [
       "[]"
      ]
     },
     "execution_count": 203,
     "metadata": {},
     "output_type": "execute_result"
    },
    {
     "data": {
      "image/png": "[encoded data removed]",
      "text/plain": [
       "<Figure size 640x480 with 1 Axes>"
      ]
     },
     "metadata": {},
     "output_type": "display_data"
    }
   ],
   "source": [
    "test_set_arr = [0.19451, 0.18417, 0.18269, 0.18185, 0.18174, 0.18221, 0.18287, 0.18279, 0.18313, 0.18322, 0.18384, 0.18430, 0.18478, 0.18471, 0.18499, 0.18515, 0.18522, 0.18521, 0.18579, 0.18655, 0.18671, 0.18696, 0.18762, 0.18799, 0.18781, 0.18828, 0.18892, 0.18869, 0.18883, 0.18885]\n",
    "plt.plot(test_set_arr)\n",
    "plt.xlabel('number of estimators')\n",
    "plt.ylabel('Test set error rate')\n",
    "plt.plot()"
   ]
  },
  {
   "cell_type": "code",
   "execution_count": null,
   "id": "hispanic-butter",
   "metadata": {},
   "outputs": [],
   "source": []
  }
 ],
 "metadata": {
  "kernelspec": {
   "display_name": "Python 3",
   "language": "python",
   "name": "python3"
  },
  "language_info": {
   "codemirror_mode": {
    "name": "ipython",
    "version": 3
   },
   "file_extension": ".py",
   "mimetype": "text/x-python",
   "name": "python",
   "nbconvert_exporter": "python",
   "pygments_lexer": "ipython3",
   "version": "3.7.4"
  }
 },
 "nbformat": 4,
 "nbformat_minor": 5
}
