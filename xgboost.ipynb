{
 "cells": [
  {
   "cell_type": "code",
   "execution_count": 1,
   "id": "english-webster",
   "metadata": {},
   "outputs": [],
   "source": [
    "import xgboost as xgb"
   ]
  },
  {
   "cell_type": "code",
   "execution_count": 2,
   "id": "original-couple",
   "metadata": {},
   "outputs": [],
   "source": [
    "import pandas as pd\n",
    "from sklearn.model_selection import train_test_split"
   ]
  },
  {
   "cell_type": "markdown",
   "id": "handled-encoding",
   "metadata": {},
   "source": [
    "## XGBoost Training "
   ]
  },
  {
   "cell_type": "code",
   "execution_count": 299,
   "id": "alpine-robin",
   "metadata": {},
   "outputs": [
    {
     "data": {
      "text/html": [
       "<div>\n",
       "<style scoped>\n",
       "    .dataframe tbody tr th:only-of-type {\n",
       "        vertical-align: middle;\n",
       "    }\n",
       "\n",
       "    .dataframe tbody tr th {\n",
       "        vertical-align: top;\n",
       "    }\n",
       "\n",
       "    .dataframe thead th {\n",
       "        text-align: right;\n",
       "    }\n",
       "</style>\n",
       "<table border=\"1\" class=\"dataframe\">\n",
       "  <thead>\n",
       "    <tr style=\"text-align: right;\">\n",
       "      <th></th>\n",
       "      <th>predicted_label</th>\n",
       "    </tr>\n",
       "  </thead>\n",
       "  <tbody>\n",
       "    <tr>\n",
       "      <th>0</th>\n",
       "      <td>1</td>\n",
       "    </tr>\n",
       "    <tr>\n",
       "      <th>1</th>\n",
       "      <td>1</td>\n",
       "    </tr>\n",
       "    <tr>\n",
       "      <th>2</th>\n",
       "      <td>1</td>\n",
       "    </tr>\n",
       "    <tr>\n",
       "      <th>3</th>\n",
       "      <td>1</td>\n",
       "    </tr>\n",
       "    <tr>\n",
       "      <th>4</th>\n",
       "      <td>1</td>\n",
       "    </tr>\n",
       "    <tr>\n",
       "      <th>...</th>\n",
       "      <td>...</td>\n",
       "    </tr>\n",
       "    <tr>\n",
       "      <th>416763</th>\n",
       "      <td>0</td>\n",
       "    </tr>\n",
       "    <tr>\n",
       "      <th>416764</th>\n",
       "      <td>0</td>\n",
       "    </tr>\n",
       "    <tr>\n",
       "      <th>416765</th>\n",
       "      <td>0</td>\n",
       "    </tr>\n",
       "    <tr>\n",
       "      <th>416766</th>\n",
       "      <td>0</td>\n",
       "    </tr>\n",
       "    <tr>\n",
       "      <th>416767</th>\n",
       "      <td>0</td>\n",
       "    </tr>\n",
       "  </tbody>\n",
       "</table>\n",
       "<p>416768 rows × 1 columns</p>\n",
       "</div>"
      ],
      "text/plain": [
       "        predicted_label\n",
       "0                     1\n",
       "1                     1\n",
       "2                     1\n",
       "3                     1\n",
       "4                     1\n",
       "...                 ...\n",
       "416763                0\n",
       "416764                0\n",
       "416765                0\n",
       "416766                0\n",
       "416767                0\n",
       "\n",
       "[416768 rows x 1 columns]"
      ]
     },
     "execution_count": 299,
     "metadata": {},
     "output_type": "execute_result"
    }
   ],
   "source": [
    "bert_label = pd.read_csv('train_data_bert_label.csv', header = 0)[['predicted_label']]\n",
    "bert_label"
   ]
  },
  {
   "cell_type": "code",
   "execution_count": 301,
   "id": "complete-devices",
   "metadata": {},
   "outputs": [
    {
     "data": {
      "text/html": [
       "<div>\n",
       "<style scoped>\n",
       "    .dataframe tbody tr th:only-of-type {\n",
       "        vertical-align: middle;\n",
       "    }\n",
       "\n",
       "    .dataframe tbody tr th {\n",
       "        vertical-align: top;\n",
       "    }\n",
       "\n",
       "    .dataframe thead th {\n",
       "        text-align: right;\n",
       "    }\n",
       "</style>\n",
       "<table border=\"1\" class=\"dataframe\">\n",
       "  <thead>\n",
       "    <tr style=\"text-align: right;\">\n",
       "      <th></th>\n",
       "      <th>original_text</th>\n",
       "      <th>label</th>\n",
       "      <th>processed_text</th>\n",
       "      <th>average_AoA_Kup_lem</th>\n",
       "      <th>percentage_of_basic_words</th>\n",
       "      <th>average_concreteness</th>\n",
       "      <th>average_percentage_known</th>\n",
       "      <th>predicted_label</th>\n",
       "    </tr>\n",
       "  </thead>\n",
       "  <tbody>\n",
       "    <tr>\n",
       "      <th>0</th>\n",
       "      <td>There is manuscript evidence that Austen conti...</td>\n",
       "      <td>1</td>\n",
       "      <td>['there', 'is', 'manuscript', 'evidence', 'tha...</td>\n",
       "      <td>10.441842</td>\n",
       "      <td>0.552632</td>\n",
       "      <td>1.974211</td>\n",
       "      <td>0.995926</td>\n",
       "      <td>1</td>\n",
       "    </tr>\n",
       "    <tr>\n",
       "      <th>1</th>\n",
       "      <td>In a remarkable comparative analysis , Mandaea...</td>\n",
       "      <td>1</td>\n",
       "      <td>['in', 'a', 'remarkable', 'comparative', 'anal...</td>\n",
       "      <td>13.332857</td>\n",
       "      <td>0.285714</td>\n",
       "      <td>1.655714</td>\n",
       "      <td>0.994167</td>\n",
       "      <td>1</td>\n",
       "    </tr>\n",
       "    <tr>\n",
       "      <th>2</th>\n",
       "      <td>Before Persephone was released to Hermes , who...</td>\n",
       "      <td>1</td>\n",
       "      <td>['before', 'persephone', 'was', 'released', 't...</td>\n",
       "      <td>7.664762</td>\n",
       "      <td>0.619048</td>\n",
       "      <td>2.106667</td>\n",
       "      <td>0.992647</td>\n",
       "      <td>1</td>\n",
       "    </tr>\n",
       "    <tr>\n",
       "      <th>3</th>\n",
       "      <td>Cogeneration plants are commonly found in dist...</td>\n",
       "      <td>1</td>\n",
       "      <td>['cogeneration', 'plants', 'are', 'commonly', ...</td>\n",
       "      <td>9.592187</td>\n",
       "      <td>0.312500</td>\n",
       "      <td>2.324375</td>\n",
       "      <td>0.993333</td>\n",
       "      <td>1</td>\n",
       "    </tr>\n",
       "    <tr>\n",
       "      <th>4</th>\n",
       "      <td>Geneva -LRB- , ; , ; , ; ; -RRB- is the second...</td>\n",
       "      <td>1</td>\n",
       "      <td>['geneva', 'lrb', '', '', '', '', '', '', '', ...</td>\n",
       "      <td>14.498214</td>\n",
       "      <td>0.500000</td>\n",
       "      <td>1.749643</td>\n",
       "      <td>0.989333</td>\n",
       "      <td>1</td>\n",
       "    </tr>\n",
       "    <tr>\n",
       "      <th>...</th>\n",
       "      <td>...</td>\n",
       "      <td>...</td>\n",
       "      <td>...</td>\n",
       "      <td>...</td>\n",
       "      <td>...</td>\n",
       "      <td>...</td>\n",
       "      <td>...</td>\n",
       "      <td>...</td>\n",
       "    </tr>\n",
       "    <tr>\n",
       "      <th>416763</th>\n",
       "      <td>A Duke Nukem 3D version has been sold for Xbox...</td>\n",
       "      <td>0</td>\n",
       "      <td>['a', 'duke', 'nukem', '3d', 'version', 'has',...</td>\n",
       "      <td>13.474000</td>\n",
       "      <td>0.533333</td>\n",
       "      <td>2.168000</td>\n",
       "      <td>0.982000</td>\n",
       "      <td>0</td>\n",
       "    </tr>\n",
       "    <tr>\n",
       "      <th>416764</th>\n",
       "      <td>However , it is becoming replaced as a method ...</td>\n",
       "      <td>0</td>\n",
       "      <td>['however', '', 'it', 'is', 'becoming', 'repla...</td>\n",
       "      <td>8.628333</td>\n",
       "      <td>0.666667</td>\n",
       "      <td>1.910000</td>\n",
       "      <td>0.992143</td>\n",
       "      <td>0</td>\n",
       "    </tr>\n",
       "    <tr>\n",
       "      <th>416765</th>\n",
       "      <td>There are hand gestures in both Hindu and Budd...</td>\n",
       "      <td>0</td>\n",
       "      <td>['there', 'are', 'hand', 'gestures', 'in', 'bo...</td>\n",
       "      <td>8.610000</td>\n",
       "      <td>0.600000</td>\n",
       "      <td>2.587000</td>\n",
       "      <td>1.000000</td>\n",
       "      <td>0</td>\n",
       "    </tr>\n",
       "    <tr>\n",
       "      <th>416766</th>\n",
       "      <td>If it is necessary to use colors , try to choo...</td>\n",
       "      <td>0</td>\n",
       "      <td>['if', 'it', 'is', 'necessary', 'to', 'use', '...</td>\n",
       "      <td>6.475897</td>\n",
       "      <td>0.666667</td>\n",
       "      <td>2.391538</td>\n",
       "      <td>0.995833</td>\n",
       "      <td>0</td>\n",
       "    </tr>\n",
       "    <tr>\n",
       "      <th>416767</th>\n",
       "      <td>Calgary Stampeders ,</td>\n",
       "      <td>0</td>\n",
       "      <td>['calgary', 'stampeders', '']</td>\n",
       "      <td>25.000000</td>\n",
       "      <td>0.000000</td>\n",
       "      <td>1.040000</td>\n",
       "      <td>NaN</td>\n",
       "      <td>0</td>\n",
       "    </tr>\n",
       "  </tbody>\n",
       "</table>\n",
       "<p>416768 rows × 8 columns</p>\n",
       "</div>"
      ],
      "text/plain": [
       "                                            original_text  label  \\\n",
       "0       There is manuscript evidence that Austen conti...      1   \n",
       "1       In a remarkable comparative analysis , Mandaea...      1   \n",
       "2       Before Persephone was released to Hermes , who...      1   \n",
       "3       Cogeneration plants are commonly found in dist...      1   \n",
       "4       Geneva -LRB- , ; , ; , ; ; -RRB- is the second...      1   \n",
       "...                                                   ...    ...   \n",
       "416763  A Duke Nukem 3D version has been sold for Xbox...      0   \n",
       "416764  However , it is becoming replaced as a method ...      0   \n",
       "416765  There are hand gestures in both Hindu and Budd...      0   \n",
       "416766  If it is necessary to use colors , try to choo...      0   \n",
       "416767                               Calgary Stampeders ,      0   \n",
       "\n",
       "                                           processed_text  \\\n",
       "0       ['there', 'is', 'manuscript', 'evidence', 'tha...   \n",
       "1       ['in', 'a', 'remarkable', 'comparative', 'anal...   \n",
       "2       ['before', 'persephone', 'was', 'released', 't...   \n",
       "3       ['cogeneration', 'plants', 'are', 'commonly', ...   \n",
       "4       ['geneva', 'lrb', '', '', '', '', '', '', '', ...   \n",
       "...                                                   ...   \n",
       "416763  ['a', 'duke', 'nukem', '3d', 'version', 'has',...   \n",
       "416764  ['however', '', 'it', 'is', 'becoming', 'repla...   \n",
       "416765  ['there', 'are', 'hand', 'gestures', 'in', 'bo...   \n",
       "416766  ['if', 'it', 'is', 'necessary', 'to', 'use', '...   \n",
       "416767                      ['calgary', 'stampeders', '']   \n",
       "\n",
       "        average_AoA_Kup_lem  percentage_of_basic_words  average_concreteness  \\\n",
       "0                 10.441842                   0.552632              1.974211   \n",
       "1                 13.332857                   0.285714              1.655714   \n",
       "2                  7.664762                   0.619048              2.106667   \n",
       "3                  9.592187                   0.312500              2.324375   \n",
       "4                 14.498214                   0.500000              1.749643   \n",
       "...                     ...                        ...                   ...   \n",
       "416763            13.474000                   0.533333              2.168000   \n",
       "416764             8.628333                   0.666667              1.910000   \n",
       "416765             8.610000                   0.600000              2.587000   \n",
       "416766             6.475897                   0.666667              2.391538   \n",
       "416767            25.000000                   0.000000              1.040000   \n",
       "\n",
       "        average_percentage_known  predicted_label  \n",
       "0                       0.995926                1  \n",
       "1                       0.994167                1  \n",
       "2                       0.992647                1  \n",
       "3                       0.993333                1  \n",
       "4                       0.989333                1  \n",
       "...                          ...              ...  \n",
       "416763                  0.982000                0  \n",
       "416764                  0.992143                0  \n",
       "416765                  1.000000                0  \n",
       "416766                  0.995833                0  \n",
       "416767                       NaN                0  \n",
       "\n",
       "[416768 rows x 8 columns]"
      ]
     },
     "execution_count": 301,
     "metadata": {},
     "output_type": "execute_result"
    }
   ],
   "source": [
    "train = pd.read_csv('train_data_with_feature_ver_2.csv')\n",
    "train = train.join(bert_label)\n",
    "train"
   ]
  },
  {
   "cell_type": "code",
   "execution_count": 304,
   "id": "expressed-guard",
   "metadata": {},
   "outputs": [
    {
     "data": {
      "text/html": [
       "<div>\n",
       "<style scoped>\n",
       "    .dataframe tbody tr th:only-of-type {\n",
       "        vertical-align: middle;\n",
       "    }\n",
       "\n",
       "    .dataframe tbody tr th {\n",
       "        vertical-align: top;\n",
       "    }\n",
       "\n",
       "    .dataframe thead th {\n",
       "        text-align: right;\n",
       "    }\n",
       "</style>\n",
       "<table border=\"1\" class=\"dataframe\">\n",
       "  <thead>\n",
       "    <tr style=\"text-align: right;\">\n",
       "      <th></th>\n",
       "      <th>original_text</th>\n",
       "      <th>label</th>\n",
       "      <th>processed_text</th>\n",
       "      <th>text_length</th>\n",
       "      <th>average_AoA_Kup_lem</th>\n",
       "      <th>percentage_of_basic_words</th>\n",
       "      <th>average_concreteness</th>\n",
       "      <th>average_percentage_known</th>\n",
       "    </tr>\n",
       "  </thead>\n",
       "  <tbody>\n",
       "    <tr>\n",
       "      <th>0</th>\n",
       "      <td>There is manuscript evidence that Austen conti...</td>\n",
       "      <td>1</td>\n",
       "      <td>['there', 'is', 'manuscript', 'evidence', 'tha...</td>\n",
       "      <td>4</td>\n",
       "      <td>5.923793</td>\n",
       "      <td>0.552632</td>\n",
       "      <td>2.354815</td>\n",
       "      <td>0.995926</td>\n",
       "    </tr>\n",
       "    <tr>\n",
       "      <th>1</th>\n",
       "      <td>In a remarkable comparative analysis , Mandaea...</td>\n",
       "      <td>1</td>\n",
       "      <td>['in', 'a', 'remarkable', 'comparative', 'anal...</td>\n",
       "      <td>2</td>\n",
       "      <td>7.499286</td>\n",
       "      <td>0.285714</td>\n",
       "      <td>2.117500</td>\n",
       "      <td>0.994167</td>\n",
       "    </tr>\n",
       "    <tr>\n",
       "      <th>2</th>\n",
       "      <td>Before Persephone was released to Hermes , who...</td>\n",
       "      <td>1</td>\n",
       "      <td>['before', 'persephone', 'was', 'released', 't...</td>\n",
       "      <td>4</td>\n",
       "      <td>5.322162</td>\n",
       "      <td>0.619048</td>\n",
       "      <td>2.357647</td>\n",
       "      <td>0.992647</td>\n",
       "    </tr>\n",
       "    <tr>\n",
       "      <th>3</th>\n",
       "      <td>Cogeneration plants are commonly found in dist...</td>\n",
       "      <td>1</td>\n",
       "      <td>['cogeneration', 'plants', 'are', 'commonly', ...</td>\n",
       "      <td>3</td>\n",
       "      <td>6.738889</td>\n",
       "      <td>0.312500</td>\n",
       "      <td>2.997143</td>\n",
       "      <td>0.993333</td>\n",
       "    </tr>\n",
       "    <tr>\n",
       "      <th>4</th>\n",
       "      <td>Geneva -LRB- , ; , ; , ; ; -RRB- is the second...</td>\n",
       "      <td>1</td>\n",
       "      <td>['geneva', 'lrb', '', '', '', '', '', '', '', ...</td>\n",
       "      <td>3</td>\n",
       "      <td>5.396667</td>\n",
       "      <td>0.500000</td>\n",
       "      <td>2.364667</td>\n",
       "      <td>0.989333</td>\n",
       "    </tr>\n",
       "    <tr>\n",
       "      <th>...</th>\n",
       "      <td>...</td>\n",
       "      <td>...</td>\n",
       "      <td>...</td>\n",
       "      <td>...</td>\n",
       "      <td>...</td>\n",
       "      <td>...</td>\n",
       "      <td>...</td>\n",
       "      <td>...</td>\n",
       "    </tr>\n",
       "    <tr>\n",
       "      <th>416763</th>\n",
       "      <td>A Duke Nukem 3D version has been sold for Xbox...</td>\n",
       "      <td>0</td>\n",
       "      <td>['a', 'duke', 'nukem', '3d', 'version', 'has',...</td>\n",
       "      <td>1</td>\n",
       "      <td>5.790000</td>\n",
       "      <td>0.533333</td>\n",
       "      <td>2.732000</td>\n",
       "      <td>0.982000</td>\n",
       "    </tr>\n",
       "    <tr>\n",
       "      <th>416764</th>\n",
       "      <td>However , it is becoming replaced as a method ...</td>\n",
       "      <td>0</td>\n",
       "      <td>['however', '', 'it', 'is', 'becoming', 'repla...</td>\n",
       "      <td>1</td>\n",
       "      <td>6.581875</td>\n",
       "      <td>0.666667</td>\n",
       "      <td>2.158571</td>\n",
       "      <td>0.992143</td>\n",
       "    </tr>\n",
       "    <tr>\n",
       "      <th>416765</th>\n",
       "      <td>There are hand gestures in both Hindu and Budd...</td>\n",
       "      <td>0</td>\n",
       "      <td>['there', 'are', 'hand', 'gestures', 'in', 'bo...</td>\n",
       "      <td>1</td>\n",
       "      <td>6.788889</td>\n",
       "      <td>0.600000</td>\n",
       "      <td>2.973750</td>\n",
       "      <td>1.000000</td>\n",
       "    </tr>\n",
       "    <tr>\n",
       "      <th>416766</th>\n",
       "      <td>If it is necessary to use colors , try to choo...</td>\n",
       "      <td>0</td>\n",
       "      <td>['if', 'it', 'is', 'necessary', 'to', 'use', '...</td>\n",
       "      <td>4</td>\n",
       "      <td>4.932222</td>\n",
       "      <td>0.666667</td>\n",
       "      <td>2.504167</td>\n",
       "      <td>0.995833</td>\n",
       "    </tr>\n",
       "    <tr>\n",
       "      <th>416767</th>\n",
       "      <td>Calgary Stampeders ,</td>\n",
       "      <td>0</td>\n",
       "      <td>['calgary', 'stampeders', '']</td>\n",
       "      <td>0</td>\n",
       "      <td>0.000000</td>\n",
       "      <td>0.000000</td>\n",
       "      <td>NaN</td>\n",
       "      <td>1.000000</td>\n",
       "    </tr>\n",
       "  </tbody>\n",
       "</table>\n",
       "<p>416768 rows × 8 columns</p>\n",
       "</div>"
      ],
      "text/plain": [
       "                                            original_text  label  \\\n",
       "0       There is manuscript evidence that Austen conti...      1   \n",
       "1       In a remarkable comparative analysis , Mandaea...      1   \n",
       "2       Before Persephone was released to Hermes , who...      1   \n",
       "3       Cogeneration plants are commonly found in dist...      1   \n",
       "4       Geneva -LRB- , ; , ; , ; ; -RRB- is the second...      1   \n",
       "...                                                   ...    ...   \n",
       "416763  A Duke Nukem 3D version has been sold for Xbox...      0   \n",
       "416764  However , it is becoming replaced as a method ...      0   \n",
       "416765  There are hand gestures in both Hindu and Budd...      0   \n",
       "416766  If it is necessary to use colors , try to choo...      0   \n",
       "416767                               Calgary Stampeders ,      0   \n",
       "\n",
       "                                           processed_text  text_length  \\\n",
       "0       ['there', 'is', 'manuscript', 'evidence', 'tha...            4   \n",
       "1       ['in', 'a', 'remarkable', 'comparative', 'anal...            2   \n",
       "2       ['before', 'persephone', 'was', 'released', 't...            4   \n",
       "3       ['cogeneration', 'plants', 'are', 'commonly', ...            3   \n",
       "4       ['geneva', 'lrb', '', '', '', '', '', '', '', ...            3   \n",
       "...                                                   ...          ...   \n",
       "416763  ['a', 'duke', 'nukem', '3d', 'version', 'has',...            1   \n",
       "416764  ['however', '', 'it', 'is', 'becoming', 'repla...            1   \n",
       "416765  ['there', 'are', 'hand', 'gestures', 'in', 'bo...            1   \n",
       "416766  ['if', 'it', 'is', 'necessary', 'to', 'use', '...            4   \n",
       "416767                      ['calgary', 'stampeders', '']            0   \n",
       "\n",
       "        average_AoA_Kup_lem  percentage_of_basic_words  average_concreteness  \\\n",
       "0                  5.923793                   0.552632              2.354815   \n",
       "1                  7.499286                   0.285714              2.117500   \n",
       "2                  5.322162                   0.619048              2.357647   \n",
       "3                  6.738889                   0.312500              2.997143   \n",
       "4                  5.396667                   0.500000              2.364667   \n",
       "...                     ...                        ...                   ...   \n",
       "416763             5.790000                   0.533333              2.732000   \n",
       "416764             6.581875                   0.666667              2.158571   \n",
       "416765             6.788889                   0.600000              2.973750   \n",
       "416766             4.932222                   0.666667              2.504167   \n",
       "416767             0.000000                   0.000000                   NaN   \n",
       "\n",
       "        average_percentage_known  \n",
       "0                       0.995926  \n",
       "1                       0.994167  \n",
       "2                       0.992647  \n",
       "3                       0.993333  \n",
       "4                       0.989333  \n",
       "...                          ...  \n",
       "416763                  0.982000  \n",
       "416764                  0.992143  \n",
       "416765                  1.000000  \n",
       "416766                  0.995833  \n",
       "416767                  1.000000  \n",
       "\n",
       "[416768 rows x 8 columns]"
      ]
     },
     "execution_count": 304,
     "metadata": {},
     "output_type": "execute_result"
    }
   ],
   "source": [
    "train = pd.read_csv('train_data_with_feature_ver_3.csv', index_col = 0)\n",
    "train"
   ]
  },
  {
   "cell_type": "code",
   "execution_count": 305,
   "id": "short-biology",
   "metadata": {},
   "outputs": [
    {
     "name": "stdout",
     "output_type": "stream",
     "text": [
      "<class 'pandas.core.frame.DataFrame'>\n",
      "Int64Index: 416768 entries, 0 to 416767\n",
      "Data columns (total 8 columns):\n",
      " #   Column                     Non-Null Count   Dtype  \n",
      "---  ------                     --------------   -----  \n",
      " 0   original_text              416768 non-null  object \n",
      " 1   label                      416768 non-null  int64  \n",
      " 2   processed_text             416768 non-null  object \n",
      " 3   text_length                416768 non-null  int64  \n",
      " 4   average_AoA_Kup_lem        416760 non-null  float64\n",
      " 5   percentage_of_basic_words  416768 non-null  float64\n",
      " 6   average_concreteness       404958 non-null  float64\n",
      " 7   average_percentage_known   416768 non-null  float64\n",
      "dtypes: float64(4), int64(2), object(2)\n",
      "memory usage: 28.6+ MB\n"
     ]
    }
   ],
   "source": [
    "train.info()"
   ]
  },
  {
   "cell_type": "code",
   "execution_count": 179,
   "id": "removed-heather",
   "metadata": {},
   "outputs": [],
   "source": [
    "import matplotlib.pyplot as plt"
   ]
  },
  {
   "cell_type": "code",
   "execution_count": 180,
   "id": "living-christopher",
   "metadata": {},
   "outputs": [
    {
     "data": {
      "text/plain": [
       "(array([ 93794.,      0., 174168.,      0.,      0.,  96122.,      0.,\n",
       "         37020.,      0.,  15664.]),\n",
       " array([0. , 0.4, 0.8, 1.2, 1.6, 2. , 2.4, 2.8, 3.2, 3.6, 4. ]),\n",
       " <BarContainer object of 10 artists>)"
      ]
     },
     "execution_count": 180,
     "metadata": {},
     "output_type": "execute_result"
    },
    {
     "data": {
      "image/png": "[encoded data removed]",
      "text/plain": [
       "<Figure size 432x288 with 1 Axes>"
      ]
     },
     "metadata": {
      "needs_background": "light"
     },
     "output_type": "display_data"
    }
   ],
   "source": [
    "plt.hist(train['text_length'])"
   ]
  },
  {
   "cell_type": "code",
   "execution_count": 135,
   "id": "chemical-stuff",
   "metadata": {},
   "outputs": [
    {
     "data": {
      "text/plain": [
       "(array([6.37000e+02, 1.13326e+05, 2.59256e+05, 2.74910e+04, 4.84800e+03,\n",
       "        1.39200e+03, 6.72000e+02, 2.72000e+02, 4.50000e+01, 2.00000e+01]),\n",
       " array([ 1.89 ,  3.601,  5.312,  7.023,  8.734, 10.445, 12.156, 13.867,\n",
       "        15.578, 17.289, 19.   ]),\n",
       " <BarContainer object of 10 artists>)"
      ]
     },
     "execution_count": 135,
     "metadata": {},
     "output_type": "execute_result"
    },
    {
     "data": {
      "image/png": "[encoded data removed]",
      "text/plain": [
       "<Figure size 432x288 with 1 Axes>"
      ]
     },
     "metadata": {
      "needs_background": "light"
     },
     "output_type": "display_data"
    }
   ],
   "source": [
    "plt.hist(train['average_AoA_Kup_lem'])"
   ]
  },
  {
   "cell_type": "code",
   "execution_count": 131,
   "id": "accessible-airline",
   "metadata": {},
   "outputs": [
    {
     "data": {
      "text/plain": [
       "(array([ 20924.,   7638.,  25523.,  53939.,  94514., 129727.,  58451.,\n",
       "         19363.,   4235.,   2454.]),\n",
       " array([0. , 0.1, 0.2, 0.3, 0.4, 0.5, 0.6, 0.7, 0.8, 0.9, 1. ]),\n",
       " <BarContainer object of 10 artists>)"
      ]
     },
     "execution_count": 131,
     "metadata": {},
     "output_type": "execute_result"
    },
    {
     "data": {
      "image/png": "[encoded data removed]",
      "text/plain": [
       "<Figure size 432x288 with 1 Axes>"
      ]
     },
     "metadata": {
      "needs_background": "light"
     },
     "output_type": "display_data"
    }
   ],
   "source": [
    "plt.hist(train['percentage_of_basic_words'])"
   ]
  },
  {
   "cell_type": "code",
   "execution_count": 132,
   "id": "hawaiian-merchant",
   "metadata": {},
   "outputs": [
    {
     "data": {
      "text/plain": [
       "(array([  1146.,   6751.,  83739., 184040.,  95647.,  21121.,   5670.,\n",
       "          2864.,   2229.,   1751.]),\n",
       " array([1.19 , 1.571, 1.952, 2.333, 2.714, 3.095, 3.476, 3.857, 4.238,\n",
       "        4.619, 5.   ]),\n",
       " <BarContainer object of 10 artists>)"
      ]
     },
     "execution_count": 132,
     "metadata": {},
     "output_type": "execute_result"
    },
    {
     "data": {
      "image/png": "[encoded data removed]",
      "text/plain": [
       "<Figure size 432x288 with 1 Axes>"
      ]
     },
     "metadata": {
      "needs_background": "light"
     },
     "output_type": "display_data"
    }
   ],
   "source": [
    "plt.hist(train['average_concreteness'])"
   ]
  },
  {
   "cell_type": "code",
   "execution_count": 133,
   "id": "champion-lesbian",
   "metadata": {},
   "outputs": [
    {
     "data": {
      "text/plain": [
       "(array([1.88000e+02, 1.40000e+01, 5.00000e+01, 5.30000e+01, 1.29000e+02,\n",
       "        4.98000e+02, 5.89000e+02, 3.65600e+03, 3.60240e+04, 3.63757e+05]),\n",
       " array([0.85 , 0.865, 0.88 , 0.895, 0.91 , 0.925, 0.94 , 0.955, 0.97 ,\n",
       "        0.985, 1.   ]),\n",
       " <BarContainer object of 10 artists>)"
      ]
     },
     "execution_count": 133,
     "metadata": {},
     "output_type": "execute_result"
    },
    {
     "data": {
      "image/png": "[encoded data removed]",
      "text/plain": [
       "<Figure size 432x288 with 1 Axes>"
      ]
     },
     "metadata": {
      "needs_background": "light"
     },
     "output_type": "display_data"
    }
   ],
   "source": [
    "plt.hist(train['average_percentage_known'])"
   ]
  },
  {
   "cell_type": "code",
   "execution_count": 306,
   "id": "adopted-salad",
   "metadata": {},
   "outputs": [],
   "source": [
    "from sklearn.preprocessing import MinMaxScaler\n",
    "from sklearn.impute import SimpleImputer\n",
    "from sklearn.pipeline import Pipeline"
   ]
  },
  {
   "cell_type": "code",
   "execution_count": 307,
   "id": "dried-climb",
   "metadata": {},
   "outputs": [
    {
     "data": {
      "text/plain": [
       "0    0.5\n",
       "1    0.5\n",
       "Name: label, dtype: float64"
      ]
     },
     "execution_count": 307,
     "metadata": {},
     "output_type": "execute_result"
    }
   ],
   "source": [
    "from sklearn.model_selection import StratifiedShuffleSplit\n",
    "sss= StratifiedShuffleSplit(n_splits=1, test_size=0.2, random_state=42)\n",
    "for train_index, test_index in sss.split(train, train['label']):\n",
    "    strat_train_set = train.iloc[train_index]\n",
    "    strat_test_set = train.iloc[test_index]\n",
    "strat_train_set['label'].value_counts()/len(strat_train_set)"
   ]
  },
  {
   "cell_type": "code",
   "execution_count": 308,
   "id": "entitled-facility",
   "metadata": {},
   "outputs": [],
   "source": [
    "X_train, y_train = strat_train_set[['average_AoA_Kup_lem',\n",
    "       'percentage_of_basic_words', 'average_concreteness',\n",
    "       'average_percentage_known', 'text_length']], strat_train_set['label']"
   ]
  },
  {
   "cell_type": "code",
   "execution_count": 309,
   "id": "ancient-anthropology",
   "metadata": {},
   "outputs": [
    {
     "data": {
      "text/plain": [
       "(333414, 5)"
      ]
     },
     "execution_count": 309,
     "metadata": {},
     "output_type": "execute_result"
    }
   ],
   "source": [
    "X_train.shape"
   ]
  },
  {
   "cell_type": "code",
   "execution_count": 310,
   "id": "cross-public",
   "metadata": {},
   "outputs": [
    {
     "data": {
      "text/plain": [
       "(333414,)"
      ]
     },
     "execution_count": 310,
     "metadata": {},
     "output_type": "execute_result"
    }
   ],
   "source": [
    "y_train.shape"
   ]
  },
  {
   "cell_type": "code",
   "execution_count": 311,
   "id": "excessive-boost",
   "metadata": {},
   "outputs": [],
   "source": [
    "X_test, y_test = strat_test_set[['average_AoA_Kup_lem',\n",
    "       'percentage_of_basic_words', 'average_concreteness',\n",
    "       'average_percentage_known', 'text_length']], strat_test_set['label']"
   ]
  },
  {
   "cell_type": "code",
   "execution_count": 312,
   "id": "planned-finish",
   "metadata": {},
   "outputs": [
    {
     "data": {
      "text/plain": [
       "(83354, 5)"
      ]
     },
     "execution_count": 312,
     "metadata": {},
     "output_type": "execute_result"
    }
   ],
   "source": [
    "X_test.shape"
   ]
  },
  {
   "cell_type": "code",
   "execution_count": 313,
   "id": "sustained-campus",
   "metadata": {},
   "outputs": [
    {
     "data": {
      "text/plain": [
       "(83354,)"
      ]
     },
     "execution_count": 313,
     "metadata": {},
     "output_type": "execute_result"
    }
   ],
   "source": [
    "y_test.shape"
   ]
  },
  {
   "cell_type": "code",
   "execution_count": 314,
   "id": "recent-radius",
   "metadata": {},
   "outputs": [],
   "source": [
    "# X_train, X_test, y_train, y_test = train_test_split(X, y, test_size=0.2, random_state=42)"
   ]
  },
  {
   "cell_type": "code",
   "execution_count": 316,
   "id": "ancient-debate",
   "metadata": {},
   "outputs": [],
   "source": [
    "# pipe = Pipeline([('scaler', MinMaxScaler()), ('imputer', SimpleImputer(strategy='mean'))])\n",
    "pipe = Pipeline([('imputer', SimpleImputer(strategy='mean'))])"
   ]
  },
  {
   "cell_type": "code",
   "execution_count": 317,
   "id": "disciplinary-second",
   "metadata": {},
   "outputs": [],
   "source": [
    "transformed_X_train = pipe.fit_transform(X_train)\n",
    "transformed_X_test = pipe.transform(X_test)"
   ]
  },
  {
   "cell_type": "code",
   "execution_count": 318,
   "id": "exceptional-oxide",
   "metadata": {},
   "outputs": [
    {
     "data": {
      "text/plain": [
       "array([[4.72416667, 0.80769231, 2.86208333, 0.99666667, 2.        ],\n",
       "       [5.42888889, 0.63636364, 2.2275    , 1.        , 1.        ],\n",
       "       [5.6       , 0.2       , 4.52      , 1.        , 0.        ],\n",
       "       ...,\n",
       "       [5.892     , 0.38888889, 2.296     , 0.993     , 1.        ],\n",
       "       [4.989     , 0.76923077, 3.26909091, 0.99636364, 1.        ],\n",
       "       [6.60428571, 0.40909091, 3.32357143, 0.99142857, 3.        ]])"
      ]
     },
     "execution_count": 318,
     "metadata": {},
     "output_type": "execute_result"
    }
   ],
   "source": [
    "transformed_X_train"
   ]
  },
  {
   "cell_type": "code",
   "execution_count": 319,
   "id": "fallen-payroll",
   "metadata": {},
   "outputs": [
    {
     "data": {
      "text/plain": [
       "array([[6.23344828, 0.58823529, 2.15777778, 0.9962963 , 3.        ],\n",
       "       [4.53777778, 0.78571429, 2.45      , 0.99      , 1.        ],\n",
       "       [6.14363636, 0.5       , 2.48818182, 0.99636364, 1.        ],\n",
       "       ...,\n",
       "       [5.57810811, 0.59090909, 2.59676471, 0.99235294, 4.        ],\n",
       "       [4.96      , 0.6       , 1.69666667, 1.        , 0.        ],\n",
       "       [5.82394737, 0.52941176, 2.23805556, 0.99277778, 4.        ]])"
      ]
     },
     "execution_count": 319,
     "metadata": {},
     "output_type": "execute_result"
    }
   ],
   "source": [
    "transformed_X_test"
   ]
  },
  {
   "cell_type": "code",
   "execution_count": 276,
   "id": "productive-polymer",
   "metadata": {},
   "outputs": [],
   "source": [
    "dtrain = xgb.DMatrix(transformed_X_train, label = y_train)"
   ]
  },
  {
   "cell_type": "code",
   "execution_count": 277,
   "id": "solved-toner",
   "metadata": {},
   "outputs": [],
   "source": [
    "dvalid = xgb.DMatrix(transformed_X_test, label = y_test)"
   ]
  },
  {
   "cell_type": "code",
   "execution_count": 337,
   "id": "accurate-familiar",
   "metadata": {},
   "outputs": [],
   "source": [
    "from sklearn.linear_model import LogisticRegression"
   ]
  },
  {
   "cell_type": "code",
   "execution_count": 338,
   "id": "powered-support",
   "metadata": {},
   "outputs": [
    {
     "data": {
      "text/plain": [
       "0.6093048923866881"
      ]
     },
     "execution_count": 338,
     "metadata": {},
     "output_type": "execute_result"
    }
   ],
   "source": [
    "logistic_clf = LogisticRegression()\n",
    "logistic_clf.fit(transformed_X_train, y_train)\n",
    "logistic_clf.score(transformed_X_test, y_test)"
   ]
  },
  {
   "cell_type": "code",
   "execution_count": 339,
   "id": "sweet-toyota",
   "metadata": {},
   "outputs": [],
   "source": [
    "from sklearn.svm import SVC"
   ]
  },
  {
   "cell_type": "code",
   "execution_count": null,
   "id": "general-veteran",
   "metadata": {},
   "outputs": [],
   "source": [
    "svc_clf = SVC()\n",
    "svc_clf.fit(transformed_X_train, y_train)\n",
    "svc_clf.score(transformed_X_test, y_test)"
   ]
  },
  {
   "cell_type": "code",
   "execution_count": 320,
   "id": "arranged-parts",
   "metadata": {},
   "outputs": [],
   "source": [
    "param_dist = {'objective':'binary:logistic', 'n_estimators':100, 'max_depth':15, 'eta': 0.8}\n",
    "clf = xgb.XGBModel(**param_dist)"
   ]
  },
  {
   "cell_type": "code",
   "execution_count": 321,
   "id": "secret-strap",
   "metadata": {},
   "outputs": [
    {
     "name": "stdout",
     "output_type": "stream",
     "text": [
      "[0]\tvalidation_0-error:0.30759\tvalidation_1-error:0.35152\n",
      "[1]\tvalidation_0-error:0.28809\tvalidation_1-error:0.34830\n",
      "[2]\tvalidation_0-error:0.27530\tvalidation_1-error:0.34802\n",
      "[3]\tvalidation_0-error:0.26987\tvalidation_1-error:0.34765\n",
      "[4]\tvalidation_0-error:0.26657\tvalidation_1-error:0.34715\n",
      "[5]\tvalidation_0-error:0.26171\tvalidation_1-error:0.34635\n",
      "[6]\tvalidation_0-error:0.25316\tvalidation_1-error:0.34622\n",
      "[7]\tvalidation_0-error:0.24993\tvalidation_1-error:0.34671\n",
      "[8]\tvalidation_0-error:0.24844\tvalidation_1-error:0.34668\n",
      "[9]\tvalidation_0-error:0.24260\tvalidation_1-error:0.34584\n",
      "[10]\tvalidation_0-error:0.23813\tvalidation_1-error:0.34574\n",
      "[11]\tvalidation_0-error:0.23315\tvalidation_1-error:0.34529\n",
      "[12]\tvalidation_0-error:0.22853\tvalidation_1-error:0.34484\n",
      "[13]\tvalidation_0-error:0.22265\tvalidation_1-error:0.34508\n",
      "[14]\tvalidation_0-error:0.21696\tvalidation_1-error:0.34398\n",
      "[15]\tvalidation_0-error:0.21254\tvalidation_1-error:0.34365\n",
      "[16]\tvalidation_0-error:0.20899\tvalidation_1-error:0.34326\n",
      "[17]\tvalidation_0-error:0.20792\tvalidation_1-error:0.34267\n",
      "[18]\tvalidation_0-error:0.20039\tvalidation_1-error:0.34177\n",
      "[19]\tvalidation_0-error:0.19845\tvalidation_1-error:0.34142\n",
      "[20]\tvalidation_0-error:0.19338\tvalidation_1-error:0.34159\n",
      "[21]\tvalidation_0-error:0.19084\tvalidation_1-error:0.34085\n",
      "[22]\tvalidation_0-error:0.18911\tvalidation_1-error:0.34105\n",
      "[23]\tvalidation_0-error:0.18645\tvalidation_1-error:0.34085\n",
      "[24]\tvalidation_0-error:0.18422\tvalidation_1-error:0.34109\n",
      "[25]\tvalidation_0-error:0.18204\tvalidation_1-error:0.34080\n",
      "[26]\tvalidation_0-error:0.17905\tvalidation_1-error:0.34033\n",
      "[27]\tvalidation_0-error:0.17700\tvalidation_1-error:0.34018\n",
      "[28]\tvalidation_0-error:0.17397\tvalidation_1-error:0.33998\n",
      "[29]\tvalidation_0-error:0.17009\tvalidation_1-error:0.33901\n",
      "[30]\tvalidation_0-error:0.16557\tvalidation_1-error:0.33918\n",
      "[31]\tvalidation_0-error:0.16345\tvalidation_1-error:0.33914\n",
      "[32]\tvalidation_0-error:0.16298\tvalidation_1-error:0.33910\n",
      "[33]\tvalidation_0-error:0.16065\tvalidation_1-error:0.33865\n",
      "[34]\tvalidation_0-error:0.15755\tvalidation_1-error:0.33810\n",
      "[35]\tvalidation_0-error:0.15679\tvalidation_1-error:0.33782\n",
      "[36]\tvalidation_0-error:0.15652\tvalidation_1-error:0.33768\n",
      "[37]\tvalidation_0-error:0.15623\tvalidation_1-error:0.33758\n",
      "[38]\tvalidation_0-error:0.15491\tvalidation_1-error:0.33779\n",
      "[39]\tvalidation_0-error:0.15444\tvalidation_1-error:0.33786\n",
      "[40]\tvalidation_0-error:0.15400\tvalidation_1-error:0.33803\n",
      "[41]\tvalidation_0-error:0.15248\tvalidation_1-error:0.33769\n",
      "[42]\tvalidation_0-error:0.15001\tvalidation_1-error:0.33804\n",
      "[43]\tvalidation_0-error:0.14696\tvalidation_1-error:0.33774\n",
      "[44]\tvalidation_0-error:0.14566\tvalidation_1-error:0.33817\n",
      "[45]\tvalidation_0-error:0.14420\tvalidation_1-error:0.33798\n",
      "[46]\tvalidation_0-error:0.13989\tvalidation_1-error:0.33809\n",
      "[47]\tvalidation_0-error:0.13875\tvalidation_1-error:0.33816\n",
      "[48]\tvalidation_0-error:0.13603\tvalidation_1-error:0.33750\n",
      "[49]\tvalidation_0-error:0.13410\tvalidation_1-error:0.33746\n",
      "[50]\tvalidation_0-error:0.13253\tvalidation_1-error:0.33713\n",
      "[51]\tvalidation_0-error:0.13202\tvalidation_1-error:0.33718\n",
      "[52]\tvalidation_0-error:0.13071\tvalidation_1-error:0.33733\n",
      "[53]\tvalidation_0-error:0.12943\tvalidation_1-error:0.33714\n",
      "[54]\tvalidation_0-error:0.12735\tvalidation_1-error:0.33738\n",
      "[55]\tvalidation_0-error:0.12542\tvalidation_1-error:0.33749\n",
      "[56]\tvalidation_0-error:0.12461\tvalidation_1-error:0.33754\n",
      "[57]\tvalidation_0-error:0.12424\tvalidation_1-error:0.33761\n",
      "[58]\tvalidation_0-error:0.12103\tvalidation_1-error:0.33749\n",
      "[59]\tvalidation_0-error:0.11877\tvalidation_1-error:0.33661\n",
      "[60]\tvalidation_0-error:0.11862\tvalidation_1-error:0.33643\n",
      "[61]\tvalidation_0-error:0.11789\tvalidation_1-error:0.33654\n",
      "[62]\tvalidation_0-error:0.11738\tvalidation_1-error:0.33665\n",
      "[63]\tvalidation_0-error:0.11486\tvalidation_1-error:0.33603\n",
      "[64]\tvalidation_0-error:0.11395\tvalidation_1-error:0.33607\n",
      "[65]\tvalidation_0-error:0.11079\tvalidation_1-error:0.33551\n",
      "[66]\tvalidation_0-error:0.10942\tvalidation_1-error:0.33539\n",
      "[67]\tvalidation_0-error:0.10802\tvalidation_1-error:0.33554\n",
      "[68]\tvalidation_0-error:0.10748\tvalidation_1-error:0.33540\n",
      "[69]\tvalidation_0-error:0.10544\tvalidation_1-error:0.33537\n",
      "[70]\tvalidation_0-error:0.10349\tvalidation_1-error:0.33531\n",
      "[71]\tvalidation_0-error:0.10196\tvalidation_1-error:0.33480\n",
      "[72]\tvalidation_0-error:0.10124\tvalidation_1-error:0.33470\n",
      "[73]\tvalidation_0-error:0.09922\tvalidation_1-error:0.33520\n",
      "[74]\tvalidation_0-error:0.09723\tvalidation_1-error:0.33479\n",
      "[75]\tvalidation_0-error:0.09689\tvalidation_1-error:0.33461\n",
      "[76]\tvalidation_0-error:0.09671\tvalidation_1-error:0.33470\n",
      "[77]\tvalidation_0-error:0.09547\tvalidation_1-error:0.33494\n",
      "[78]\tvalidation_0-error:0.09357\tvalidation_1-error:0.33519\n",
      "[79]\tvalidation_0-error:0.09250\tvalidation_1-error:0.33527\n",
      "[80]\tvalidation_0-error:0.09222\tvalidation_1-error:0.33510\n",
      "[81]\tvalidation_0-error:0.09192\tvalidation_1-error:0.33499\n",
      "[82]\tvalidation_0-error:0.09097\tvalidation_1-error:0.33461\n",
      "[83]\tvalidation_0-error:0.09042\tvalidation_1-error:0.33474\n",
      "[84]\tvalidation_0-error:0.08979\tvalidation_1-error:0.33450\n",
      "[85]\tvalidation_0-error:0.08940\tvalidation_1-error:0.33439\n",
      "[86]\tvalidation_0-error:0.08916\tvalidation_1-error:0.33432\n",
      "[87]\tvalidation_0-error:0.08914\tvalidation_1-error:0.33422\n",
      "[88]\tvalidation_0-error:0.08834\tvalidation_1-error:0.33426\n",
      "[89]\tvalidation_0-error:0.08665\tvalidation_1-error:0.33376\n",
      "[90]\tvalidation_0-error:0.08526\tvalidation_1-error:0.33369\n",
      "[91]\tvalidation_0-error:0.08392\tvalidation_1-error:0.33371\n",
      "[92]\tvalidation_0-error:0.08333\tvalidation_1-error:0.33357\n",
      "[93]\tvalidation_0-error:0.08310\tvalidation_1-error:0.33348\n",
      "[94]\tvalidation_0-error:0.08180\tvalidation_1-error:0.33317\n",
      "[95]\tvalidation_0-error:0.08117\tvalidation_1-error:0.33283\n",
      "[96]\tvalidation_0-error:0.08041\tvalidation_1-error:0.33295\n",
      "[97]\tvalidation_0-error:0.08034\tvalidation_1-error:0.33300\n",
      "[98]\tvalidation_0-error:0.07903\tvalidation_1-error:0.33319\n",
      "[99]\tvalidation_0-error:0.07769\tvalidation_1-error:0.33291\n"
     ]
    },
    {
     "data": {
      "text/plain": [
       "XGBModel(base_score=0.5, booster='gbtree', colsample_bylevel=1,\n",
       "         colsample_bynode=1, colsample_bytree=1, eta=0.8, gamma=0, gpu_id=-1,\n",
       "         interaction_constraints='', learning_rate=0.800000012,\n",
       "         max_delta_step=0, max_depth=15, min_child_weight=1,\n",
       "         monotone_constraints='()', n_jobs=8, num_parallel_tree=1,\n",
       "         objective='binary:logistic', predictor='auto', random_state=0,\n",
       "         reg_alpha=0, reg_lambda=1, scale_pos_weight=1, subsample=1,\n",
       "         tree_method='exact', validate_parameters=1)"
      ]
     },
     "execution_count": 321,
     "metadata": {},
     "output_type": "execute_result"
    }
   ],
   "source": [
    "clf.fit(transformed_X_train, y_train,\n",
    "        eval_set=[(transformed_X_train, y_train), (transformed_X_test, y_test)],\n",
    "        eval_metric='error',\n",
    "        verbose=True)"
   ]
  },
  {
   "cell_type": "markdown",
   "id": "backed-archive",
   "metadata": {},
   "source": [
    "## Prediction"
   ]
  },
  {
   "cell_type": "code",
   "execution_count": 231,
   "id": "enormous-nutrition",
   "metadata": {},
   "outputs": [
    {
     "data": {
      "text/html": [
       "<div>\n",
       "<style scoped>\n",
       "    .dataframe tbody tr th:only-of-type {\n",
       "        vertical-align: middle;\n",
       "    }\n",
       "\n",
       "    .dataframe tbody tr th {\n",
       "        vertical-align: top;\n",
       "    }\n",
       "\n",
       "    .dataframe thead th {\n",
       "        text-align: right;\n",
       "    }\n",
       "</style>\n",
       "<table border=\"1\" class=\"dataframe\">\n",
       "  <thead>\n",
       "    <tr style=\"text-align: right;\">\n",
       "      <th></th>\n",
       "      <th>predicted_label</th>\n",
       "    </tr>\n",
       "    <tr>\n",
       "      <th>id</th>\n",
       "      <th></th>\n",
       "    </tr>\n",
       "  </thead>\n",
       "  <tbody>\n",
       "    <tr>\n",
       "      <th>0</th>\n",
       "      <td>0</td>\n",
       "    </tr>\n",
       "    <tr>\n",
       "      <th>1</th>\n",
       "      <td>0</td>\n",
       "    </tr>\n",
       "    <tr>\n",
       "      <th>2</th>\n",
       "      <td>0</td>\n",
       "    </tr>\n",
       "    <tr>\n",
       "      <th>3</th>\n",
       "      <td>0</td>\n",
       "    </tr>\n",
       "    <tr>\n",
       "      <th>4</th>\n",
       "      <td>1</td>\n",
       "    </tr>\n",
       "    <tr>\n",
       "      <th>...</th>\n",
       "      <td>...</td>\n",
       "    </tr>\n",
       "    <tr>\n",
       "      <th>119087</th>\n",
       "      <td>1</td>\n",
       "    </tr>\n",
       "    <tr>\n",
       "      <th>119088</th>\n",
       "      <td>1</td>\n",
       "    </tr>\n",
       "    <tr>\n",
       "      <th>119089</th>\n",
       "      <td>1</td>\n",
       "    </tr>\n",
       "    <tr>\n",
       "      <th>119090</th>\n",
       "      <td>1</td>\n",
       "    </tr>\n",
       "    <tr>\n",
       "      <th>119091</th>\n",
       "      <td>1</td>\n",
       "    </tr>\n",
       "  </tbody>\n",
       "</table>\n",
       "<p>119092 rows × 1 columns</p>\n",
       "</div>"
      ],
      "text/plain": [
       "        predicted_label\n",
       "id                     \n",
       "0                     0\n",
       "1                     0\n",
       "2                     0\n",
       "3                     0\n",
       "4                     1\n",
       "...                 ...\n",
       "119087                1\n",
       "119088                1\n",
       "119089                1\n",
       "119090                1\n",
       "119091                1\n",
       "\n",
       "[119092 rows x 1 columns]"
      ]
     },
     "execution_count": 231,
     "metadata": {},
     "output_type": "execute_result"
    }
   ],
   "source": [
    "test_bert_label = pd.read_csv('test_data_bert_label.csv', header = 0, index_col = 0)\n",
    "test_bert_label.columns = ['predicted_label']\n",
    "test_bert_label"
   ]
  },
  {
   "cell_type": "code",
   "execution_count": 322,
   "id": "refined-auckland",
   "metadata": {},
   "outputs": [
    {
     "data": {
      "text/html": [
       "<div>\n",
       "<style scoped>\n",
       "    .dataframe tbody tr th:only-of-type {\n",
       "        vertical-align: middle;\n",
       "    }\n",
       "\n",
       "    .dataframe tbody tr th {\n",
       "        vertical-align: top;\n",
       "    }\n",
       "\n",
       "    .dataframe thead th {\n",
       "        text-align: right;\n",
       "    }\n",
       "</style>\n",
       "<table border=\"1\" class=\"dataframe\">\n",
       "  <thead>\n",
       "    <tr style=\"text-align: right;\">\n",
       "      <th></th>\n",
       "      <th>original_text</th>\n",
       "      <th>label</th>\n",
       "      <th>processed_text</th>\n",
       "      <th>text_length</th>\n",
       "      <th>average_AoA_Kup_lem</th>\n",
       "      <th>percentage_of_basic_words</th>\n",
       "      <th>average_concreteness</th>\n",
       "      <th>average_percentage_known</th>\n",
       "    </tr>\n",
       "    <tr>\n",
       "      <th>id</th>\n",
       "      <th></th>\n",
       "      <th></th>\n",
       "      <th></th>\n",
       "      <th></th>\n",
       "      <th></th>\n",
       "      <th></th>\n",
       "      <th></th>\n",
       "      <th></th>\n",
       "    </tr>\n",
       "  </thead>\n",
       "  <tbody>\n",
       "    <tr>\n",
       "      <th>0</th>\n",
       "      <td>-2011</td>\n",
       "      <td>NaN</td>\n",
       "      <td>['2011']</td>\n",
       "      <td>0</td>\n",
       "      <td>0.00</td>\n",
       "      <td>0.0</td>\n",
       "      <td>NaN</td>\n",
       "      <td>1.00</td>\n",
       "    </tr>\n",
       "    <tr>\n",
       "      <th>1</th>\n",
       "      <td>-2011</td>\n",
       "      <td>NaN</td>\n",
       "      <td>['2011']</td>\n",
       "      <td>0</td>\n",
       "      <td>0.00</td>\n",
       "      <td>0.0</td>\n",
       "      <td>NaN</td>\n",
       "      <td>1.00</td>\n",
       "    </tr>\n",
       "    <tr>\n",
       "      <th>2</th>\n",
       "      <td>-2000</td>\n",
       "      <td>NaN</td>\n",
       "      <td>['2000']</td>\n",
       "      <td>0</td>\n",
       "      <td>0.00</td>\n",
       "      <td>0.0</td>\n",
       "      <td>NaN</td>\n",
       "      <td>1.00</td>\n",
       "    </tr>\n",
       "    <tr>\n",
       "      <th>3</th>\n",
       "      <td>-1997</td>\n",
       "      <td>NaN</td>\n",
       "      <td>['1997']</td>\n",
       "      <td>0</td>\n",
       "      <td>0.00</td>\n",
       "      <td>0.0</td>\n",
       "      <td>NaN</td>\n",
       "      <td>1.00</td>\n",
       "    </tr>\n",
       "    <tr>\n",
       "      <th>4</th>\n",
       "      <td>1.636</td>\n",
       "      <td>NaN</td>\n",
       "      <td>['1636']</td>\n",
       "      <td>0</td>\n",
       "      <td>0.00</td>\n",
       "      <td>0.0</td>\n",
       "      <td>NaN</td>\n",
       "      <td>1.00</td>\n",
       "    </tr>\n",
       "    <tr>\n",
       "      <th>...</th>\n",
       "      <td>...</td>\n",
       "      <td>...</td>\n",
       "      <td>...</td>\n",
       "      <td>...</td>\n",
       "      <td>...</td>\n",
       "      <td>...</td>\n",
       "      <td>...</td>\n",
       "      <td>...</td>\n",
       "    </tr>\n",
       "    <tr>\n",
       "      <th>119087</th>\n",
       "      <td>#NAME?</td>\n",
       "      <td>NaN</td>\n",
       "      <td>['name']</td>\n",
       "      <td>0</td>\n",
       "      <td>3.68</td>\n",
       "      <td>1.0</td>\n",
       "      <td>3.5</td>\n",
       "      <td>0.96</td>\n",
       "    </tr>\n",
       "    <tr>\n",
       "      <th>119088</th>\n",
       "      <td>#NAME?</td>\n",
       "      <td>NaN</td>\n",
       "      <td>['name']</td>\n",
       "      <td>0</td>\n",
       "      <td>3.68</td>\n",
       "      <td>1.0</td>\n",
       "      <td>3.5</td>\n",
       "      <td>0.96</td>\n",
       "    </tr>\n",
       "    <tr>\n",
       "      <th>119089</th>\n",
       "      <td>#NAME?</td>\n",
       "      <td>NaN</td>\n",
       "      <td>['name']</td>\n",
       "      <td>0</td>\n",
       "      <td>3.68</td>\n",
       "      <td>1.0</td>\n",
       "      <td>3.5</td>\n",
       "      <td>0.96</td>\n",
       "    </tr>\n",
       "    <tr>\n",
       "      <th>119090</th>\n",
       "      <td>#NAME?</td>\n",
       "      <td>NaN</td>\n",
       "      <td>['name']</td>\n",
       "      <td>0</td>\n",
       "      <td>3.68</td>\n",
       "      <td>1.0</td>\n",
       "      <td>3.5</td>\n",
       "      <td>0.96</td>\n",
       "    </tr>\n",
       "    <tr>\n",
       "      <th>119091</th>\n",
       "      <td>#NAME?</td>\n",
       "      <td>NaN</td>\n",
       "      <td>['name']</td>\n",
       "      <td>0</td>\n",
       "      <td>3.68</td>\n",
       "      <td>1.0</td>\n",
       "      <td>3.5</td>\n",
       "      <td>0.96</td>\n",
       "    </tr>\n",
       "  </tbody>\n",
       "</table>\n",
       "<p>119092 rows × 8 columns</p>\n",
       "</div>"
      ],
      "text/plain": [
       "       original_text  label processed_text  text_length  average_AoA_Kup_lem  \\\n",
       "id                                                                             \n",
       "0              -2011    NaN       ['2011']            0                 0.00   \n",
       "1              -2011    NaN       ['2011']            0                 0.00   \n",
       "2              -2000    NaN       ['2000']            0                 0.00   \n",
       "3              -1997    NaN       ['1997']            0                 0.00   \n",
       "4              1.636    NaN       ['1636']            0                 0.00   \n",
       "...              ...    ...            ...          ...                  ...   \n",
       "119087        #NAME?    NaN       ['name']            0                 3.68   \n",
       "119088        #NAME?    NaN       ['name']            0                 3.68   \n",
       "119089        #NAME?    NaN       ['name']            0                 3.68   \n",
       "119090        #NAME?    NaN       ['name']            0                 3.68   \n",
       "119091        #NAME?    NaN       ['name']            0                 3.68   \n",
       "\n",
       "        percentage_of_basic_words  average_concreteness  \\\n",
       "id                                                        \n",
       "0                             0.0                   NaN   \n",
       "1                             0.0                   NaN   \n",
       "2                             0.0                   NaN   \n",
       "3                             0.0                   NaN   \n",
       "4                             0.0                   NaN   \n",
       "...                           ...                   ...   \n",
       "119087                        1.0                   3.5   \n",
       "119088                        1.0                   3.5   \n",
       "119089                        1.0                   3.5   \n",
       "119090                        1.0                   3.5   \n",
       "119091                        1.0                   3.5   \n",
       "\n",
       "        average_percentage_known  \n",
       "id                                \n",
       "0                           1.00  \n",
       "1                           1.00  \n",
       "2                           1.00  \n",
       "3                           1.00  \n",
       "4                           1.00  \n",
       "...                          ...  \n",
       "119087                      0.96  \n",
       "119088                      0.96  \n",
       "119089                      0.96  \n",
       "119090                      0.96  \n",
       "119091                      0.96  \n",
       "\n",
       "[119092 rows x 8 columns]"
      ]
     },
     "execution_count": 322,
     "metadata": {},
     "output_type": "execute_result"
    }
   ],
   "source": [
    "test = pd.read_csv('test_data_with_feature_ver_3.csv', index_col = 0)\n",
    "test"
   ]
  },
  {
   "cell_type": "code",
   "execution_count": 233,
   "id": "hungry-blast",
   "metadata": {},
   "outputs": [
    {
     "data": {
      "text/html": [
       "<div>\n",
       "<style scoped>\n",
       "    .dataframe tbody tr th:only-of-type {\n",
       "        vertical-align: middle;\n",
       "    }\n",
       "\n",
       "    .dataframe tbody tr th {\n",
       "        vertical-align: top;\n",
       "    }\n",
       "\n",
       "    .dataframe thead th {\n",
       "        text-align: right;\n",
       "    }\n",
       "</style>\n",
       "<table border=\"1\" class=\"dataframe\">\n",
       "  <thead>\n",
       "    <tr style=\"text-align: right;\">\n",
       "      <th></th>\n",
       "      <th>original_text</th>\n",
       "      <th>label</th>\n",
       "      <th>processed_text</th>\n",
       "      <th>average_AoA_Kup_lem</th>\n",
       "      <th>percentage_of_basic_words</th>\n",
       "      <th>average_concreteness</th>\n",
       "      <th>average_percentage_known</th>\n",
       "      <th>predicted_label</th>\n",
       "    </tr>\n",
       "    <tr>\n",
       "      <th>id</th>\n",
       "      <th></th>\n",
       "      <th></th>\n",
       "      <th></th>\n",
       "      <th></th>\n",
       "      <th></th>\n",
       "      <th></th>\n",
       "      <th></th>\n",
       "      <th></th>\n",
       "    </tr>\n",
       "  </thead>\n",
       "  <tbody>\n",
       "    <tr>\n",
       "      <th>0</th>\n",
       "      <td>-2011</td>\n",
       "      <td>NaN</td>\n",
       "      <td>['2011']</td>\n",
       "      <td>NaN</td>\n",
       "      <td>0.0</td>\n",
       "      <td>NaN</td>\n",
       "      <td>NaN</td>\n",
       "      <td>0</td>\n",
       "    </tr>\n",
       "    <tr>\n",
       "      <th>1</th>\n",
       "      <td>-2011</td>\n",
       "      <td>NaN</td>\n",
       "      <td>['2011']</td>\n",
       "      <td>NaN</td>\n",
       "      <td>0.0</td>\n",
       "      <td>NaN</td>\n",
       "      <td>NaN</td>\n",
       "      <td>0</td>\n",
       "    </tr>\n",
       "    <tr>\n",
       "      <th>2</th>\n",
       "      <td>-2000</td>\n",
       "      <td>NaN</td>\n",
       "      <td>['2000']</td>\n",
       "      <td>NaN</td>\n",
       "      <td>0.0</td>\n",
       "      <td>NaN</td>\n",
       "      <td>NaN</td>\n",
       "      <td>0</td>\n",
       "    </tr>\n",
       "    <tr>\n",
       "      <th>3</th>\n",
       "      <td>-1997</td>\n",
       "      <td>NaN</td>\n",
       "      <td>['1997']</td>\n",
       "      <td>NaN</td>\n",
       "      <td>0.0</td>\n",
       "      <td>NaN</td>\n",
       "      <td>NaN</td>\n",
       "      <td>0</td>\n",
       "    </tr>\n",
       "    <tr>\n",
       "      <th>4</th>\n",
       "      <td>1.636</td>\n",
       "      <td>NaN</td>\n",
       "      <td>['1636']</td>\n",
       "      <td>NaN</td>\n",
       "      <td>0.0</td>\n",
       "      <td>NaN</td>\n",
       "      <td>NaN</td>\n",
       "      <td>1</td>\n",
       "    </tr>\n",
       "    <tr>\n",
       "      <th>...</th>\n",
       "      <td>...</td>\n",
       "      <td>...</td>\n",
       "      <td>...</td>\n",
       "      <td>...</td>\n",
       "      <td>...</td>\n",
       "      <td>...</td>\n",
       "      <td>...</td>\n",
       "      <td>...</td>\n",
       "    </tr>\n",
       "    <tr>\n",
       "      <th>119087</th>\n",
       "      <td>#NAME?</td>\n",
       "      <td>NaN</td>\n",
       "      <td>['name']</td>\n",
       "      <td>3.68</td>\n",
       "      <td>1.0</td>\n",
       "      <td>3.5</td>\n",
       "      <td>0.96</td>\n",
       "      <td>1</td>\n",
       "    </tr>\n",
       "    <tr>\n",
       "      <th>119088</th>\n",
       "      <td>#NAME?</td>\n",
       "      <td>NaN</td>\n",
       "      <td>['name']</td>\n",
       "      <td>3.68</td>\n",
       "      <td>1.0</td>\n",
       "      <td>3.5</td>\n",
       "      <td>0.96</td>\n",
       "      <td>1</td>\n",
       "    </tr>\n",
       "    <tr>\n",
       "      <th>119089</th>\n",
       "      <td>#NAME?</td>\n",
       "      <td>NaN</td>\n",
       "      <td>['name']</td>\n",
       "      <td>3.68</td>\n",
       "      <td>1.0</td>\n",
       "      <td>3.5</td>\n",
       "      <td>0.96</td>\n",
       "      <td>1</td>\n",
       "    </tr>\n",
       "    <tr>\n",
       "      <th>119090</th>\n",
       "      <td>#NAME?</td>\n",
       "      <td>NaN</td>\n",
       "      <td>['name']</td>\n",
       "      <td>3.68</td>\n",
       "      <td>1.0</td>\n",
       "      <td>3.5</td>\n",
       "      <td>0.96</td>\n",
       "      <td>1</td>\n",
       "    </tr>\n",
       "    <tr>\n",
       "      <th>119091</th>\n",
       "      <td>#NAME?</td>\n",
       "      <td>NaN</td>\n",
       "      <td>['name']</td>\n",
       "      <td>3.68</td>\n",
       "      <td>1.0</td>\n",
       "      <td>3.5</td>\n",
       "      <td>0.96</td>\n",
       "      <td>1</td>\n",
       "    </tr>\n",
       "  </tbody>\n",
       "</table>\n",
       "<p>119092 rows × 8 columns</p>\n",
       "</div>"
      ],
      "text/plain": [
       "       original_text  label processed_text  average_AoA_Kup_lem  \\\n",
       "id                                                                \n",
       "0              -2011    NaN       ['2011']                  NaN   \n",
       "1              -2011    NaN       ['2011']                  NaN   \n",
       "2              -2000    NaN       ['2000']                  NaN   \n",
       "3              -1997    NaN       ['1997']                  NaN   \n",
       "4              1.636    NaN       ['1636']                  NaN   \n",
       "...              ...    ...            ...                  ...   \n",
       "119087        #NAME?    NaN       ['name']                 3.68   \n",
       "119088        #NAME?    NaN       ['name']                 3.68   \n",
       "119089        #NAME?    NaN       ['name']                 3.68   \n",
       "119090        #NAME?    NaN       ['name']                 3.68   \n",
       "119091        #NAME?    NaN       ['name']                 3.68   \n",
       "\n",
       "        percentage_of_basic_words  average_concreteness  \\\n",
       "id                                                        \n",
       "0                             0.0                   NaN   \n",
       "1                             0.0                   NaN   \n",
       "2                             0.0                   NaN   \n",
       "3                             0.0                   NaN   \n",
       "4                             0.0                   NaN   \n",
       "...                           ...                   ...   \n",
       "119087                        1.0                   3.5   \n",
       "119088                        1.0                   3.5   \n",
       "119089                        1.0                   3.5   \n",
       "119090                        1.0                   3.5   \n",
       "119091                        1.0                   3.5   \n",
       "\n",
       "        average_percentage_known  predicted_label  \n",
       "id                                                 \n",
       "0                            NaN                0  \n",
       "1                            NaN                0  \n",
       "2                            NaN                0  \n",
       "3                            NaN                0  \n",
       "4                            NaN                1  \n",
       "...                          ...              ...  \n",
       "119087                      0.96                1  \n",
       "119088                      0.96                1  \n",
       "119089                      0.96                1  \n",
       "119090                      0.96                1  \n",
       "119091                      0.96                1  \n",
       "\n",
       "[119092 rows x 8 columns]"
      ]
     },
     "execution_count": 233,
     "metadata": {},
     "output_type": "execute_result"
    }
   ],
   "source": [
    "test = test.join(test_bert_label)\n",
    "test"
   ]
  },
  {
   "cell_type": "code",
   "execution_count": 323,
   "id": "governmental-bishop",
   "metadata": {},
   "outputs": [],
   "source": [
    "X = test[['average_AoA_Kup_lem',\n",
    "       'percentage_of_basic_words', 'average_concreteness',\n",
    "       'average_percentage_known', 'text_length']]"
   ]
  },
  {
   "cell_type": "code",
   "execution_count": 324,
   "id": "moving-beatles",
   "metadata": {},
   "outputs": [
    {
     "data": {
      "text/html": [
       "<div>\n",
       "<style scoped>\n",
       "    .dataframe tbody tr th:only-of-type {\n",
       "        vertical-align: middle;\n",
       "    }\n",
       "\n",
       "    .dataframe tbody tr th {\n",
       "        vertical-align: top;\n",
       "    }\n",
       "\n",
       "    .dataframe thead th {\n",
       "        text-align: right;\n",
       "    }\n",
       "</style>\n",
       "<table border=\"1\" class=\"dataframe\">\n",
       "  <thead>\n",
       "    <tr style=\"text-align: right;\">\n",
       "      <th></th>\n",
       "      <th>average_AoA_Kup_lem</th>\n",
       "      <th>percentage_of_basic_words</th>\n",
       "      <th>average_concreteness</th>\n",
       "      <th>average_percentage_known</th>\n",
       "      <th>text_length</th>\n",
       "    </tr>\n",
       "    <tr>\n",
       "      <th>id</th>\n",
       "      <th></th>\n",
       "      <th></th>\n",
       "      <th></th>\n",
       "      <th></th>\n",
       "      <th></th>\n",
       "    </tr>\n",
       "  </thead>\n",
       "  <tbody>\n",
       "    <tr>\n",
       "      <th>0</th>\n",
       "      <td>0.00</td>\n",
       "      <td>0.0</td>\n",
       "      <td>NaN</td>\n",
       "      <td>1.00</td>\n",
       "      <td>0</td>\n",
       "    </tr>\n",
       "    <tr>\n",
       "      <th>1</th>\n",
       "      <td>0.00</td>\n",
       "      <td>0.0</td>\n",
       "      <td>NaN</td>\n",
       "      <td>1.00</td>\n",
       "      <td>0</td>\n",
       "    </tr>\n",
       "    <tr>\n",
       "      <th>2</th>\n",
       "      <td>0.00</td>\n",
       "      <td>0.0</td>\n",
       "      <td>NaN</td>\n",
       "      <td>1.00</td>\n",
       "      <td>0</td>\n",
       "    </tr>\n",
       "    <tr>\n",
       "      <th>3</th>\n",
       "      <td>0.00</td>\n",
       "      <td>0.0</td>\n",
       "      <td>NaN</td>\n",
       "      <td>1.00</td>\n",
       "      <td>0</td>\n",
       "    </tr>\n",
       "    <tr>\n",
       "      <th>4</th>\n",
       "      <td>0.00</td>\n",
       "      <td>0.0</td>\n",
       "      <td>NaN</td>\n",
       "      <td>1.00</td>\n",
       "      <td>0</td>\n",
       "    </tr>\n",
       "    <tr>\n",
       "      <th>...</th>\n",
       "      <td>...</td>\n",
       "      <td>...</td>\n",
       "      <td>...</td>\n",
       "      <td>...</td>\n",
       "      <td>...</td>\n",
       "    </tr>\n",
       "    <tr>\n",
       "      <th>119087</th>\n",
       "      <td>3.68</td>\n",
       "      <td>1.0</td>\n",
       "      <td>3.5</td>\n",
       "      <td>0.96</td>\n",
       "      <td>0</td>\n",
       "    </tr>\n",
       "    <tr>\n",
       "      <th>119088</th>\n",
       "      <td>3.68</td>\n",
       "      <td>1.0</td>\n",
       "      <td>3.5</td>\n",
       "      <td>0.96</td>\n",
       "      <td>0</td>\n",
       "    </tr>\n",
       "    <tr>\n",
       "      <th>119089</th>\n",
       "      <td>3.68</td>\n",
       "      <td>1.0</td>\n",
       "      <td>3.5</td>\n",
       "      <td>0.96</td>\n",
       "      <td>0</td>\n",
       "    </tr>\n",
       "    <tr>\n",
       "      <th>119090</th>\n",
       "      <td>3.68</td>\n",
       "      <td>1.0</td>\n",
       "      <td>3.5</td>\n",
       "      <td>0.96</td>\n",
       "      <td>0</td>\n",
       "    </tr>\n",
       "    <tr>\n",
       "      <th>119091</th>\n",
       "      <td>3.68</td>\n",
       "      <td>1.0</td>\n",
       "      <td>3.5</td>\n",
       "      <td>0.96</td>\n",
       "      <td>0</td>\n",
       "    </tr>\n",
       "  </tbody>\n",
       "</table>\n",
       "<p>119092 rows × 5 columns</p>\n",
       "</div>"
      ],
      "text/plain": [
       "        average_AoA_Kup_lem  percentage_of_basic_words  average_concreteness  \\\n",
       "id                                                                             \n",
       "0                      0.00                        0.0                   NaN   \n",
       "1                      0.00                        0.0                   NaN   \n",
       "2                      0.00                        0.0                   NaN   \n",
       "3                      0.00                        0.0                   NaN   \n",
       "4                      0.00                        0.0                   NaN   \n",
       "...                     ...                        ...                   ...   \n",
       "119087                 3.68                        1.0                   3.5   \n",
       "119088                 3.68                        1.0                   3.5   \n",
       "119089                 3.68                        1.0                   3.5   \n",
       "119090                 3.68                        1.0                   3.5   \n",
       "119091                 3.68                        1.0                   3.5   \n",
       "\n",
       "        average_percentage_known  text_length  \n",
       "id                                             \n",
       "0                           1.00            0  \n",
       "1                           1.00            0  \n",
       "2                           1.00            0  \n",
       "3                           1.00            0  \n",
       "4                           1.00            0  \n",
       "...                          ...          ...  \n",
       "119087                      0.96            0  \n",
       "119088                      0.96            0  \n",
       "119089                      0.96            0  \n",
       "119090                      0.96            0  \n",
       "119091                      0.96            0  \n",
       "\n",
       "[119092 rows x 5 columns]"
      ]
     },
     "execution_count": 324,
     "metadata": {},
     "output_type": "execute_result"
    }
   ],
   "source": [
    "X"
   ]
  },
  {
   "cell_type": "code",
   "execution_count": 325,
   "id": "baking-qatar",
   "metadata": {},
   "outputs": [],
   "source": [
    "transformed_X = pipe.transform(X)"
   ]
  },
  {
   "cell_type": "code",
   "execution_count": 326,
   "id": "twelve-palestinian",
   "metadata": {},
   "outputs": [
    {
     "data": {
      "text/plain": [
       "array([[0.        , 0.        , 2.60366682, 1.        , 0.        ],\n",
       "       [0.        , 0.        , 2.60366682, 1.        , 0.        ],\n",
       "       [0.        , 0.        , 2.60366682, 1.        , 0.        ],\n",
       "       ...,\n",
       "       [3.68      , 1.        , 3.5       , 0.96      , 0.        ],\n",
       "       [3.68      , 1.        , 3.5       , 0.96      , 0.        ],\n",
       "       [3.68      , 1.        , 3.5       , 0.96      , 0.        ]])"
      ]
     },
     "execution_count": 326,
     "metadata": {},
     "output_type": "execute_result"
    }
   ],
   "source": [
    "transformed_X"
   ]
  },
  {
   "cell_type": "code",
   "execution_count": 327,
   "id": "perfect-establishment",
   "metadata": {},
   "outputs": [],
   "source": [
    "ypred = clf.predict(transformed_X)"
   ]
  },
  {
   "cell_type": "code",
   "execution_count": 328,
   "id": "whole-space",
   "metadata": {},
   "outputs": [
    {
     "data": {
      "text/plain": [
       "array([0.30558553, 0.30558553, 0.30558553, ..., 0.20303436, 0.20303436,\n",
       "       0.20303436], dtype=float32)"
      ]
     },
     "execution_count": 328,
     "metadata": {},
     "output_type": "execute_result"
    }
   ],
   "source": [
    "ypred"
   ]
  },
  {
   "cell_type": "code",
   "execution_count": 329,
   "id": "union-terminal",
   "metadata": {},
   "outputs": [],
   "source": [
    "result = ypred > 0.5"
   ]
  },
  {
   "cell_type": "code",
   "execution_count": 330,
   "id": "instructional-master",
   "metadata": {},
   "outputs": [],
   "source": [
    "result = pd.DataFrame(result)"
   ]
  },
  {
   "cell_type": "code",
   "execution_count": 331,
   "id": "wired-uruguay",
   "metadata": {},
   "outputs": [],
   "source": [
    "result[0] = result[0].astype(int)"
   ]
  },
  {
   "cell_type": "code",
   "execution_count": 332,
   "id": "nutritional-breath",
   "metadata": {},
   "outputs": [],
   "source": [
    "result.columns = ['label']"
   ]
  },
  {
   "cell_type": "code",
   "execution_count": 333,
   "id": "attractive-natural",
   "metadata": {},
   "outputs": [],
   "source": [
    "result.index.name = 'id'"
   ]
  },
  {
   "cell_type": "code",
   "execution_count": 334,
   "id": "acting-protein",
   "metadata": {},
   "outputs": [
    {
     "data": {
      "text/plain": [
       "60978"
      ]
     },
     "execution_count": 334,
     "metadata": {},
     "output_type": "execute_result"
    }
   ],
   "source": [
    "result.label.sum()"
   ]
  },
  {
   "cell_type": "code",
   "execution_count": 335,
   "id": "green-attribute",
   "metadata": {},
   "outputs": [],
   "source": [
    "result.to_csv('testing.csv')"
   ]
  },
  {
   "cell_type": "code",
   "execution_count": null,
   "id": "welsh-wrapping",
   "metadata": {},
   "outputs": [],
   "source": []
  }
 ],
 "metadata": {
  "kernelspec": {
   "display_name": "Python 3",
   "language": "python",
   "name": "python3"
  },
  "language_info": {
   "codemirror_mode": {
    "name": "ipython",
    "version": 3
   },
   "file_extension": ".py",
   "mimetype": "text/x-python",
   "name": "python",
   "nbconvert_exporter": "python",
   "pygments_lexer": "ipython3",
   "version": "3.7.6"
  }
 },
 "nbformat": 4,
 "nbformat_minor": 5
}
